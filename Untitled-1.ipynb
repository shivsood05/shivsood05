{
 "cells": [
  {
   "cell_type": "code",
   "execution_count": 13,
   "metadata": {},
   "outputs": [
    {
     "name": "stdin",
     "output_type": "stream",
     "text": [
      "enter a number: 2\n"
     ]
    },
    {
     "name": "stdout",
     "output_type": "stream",
     "text": [
      "False\n"
     ]
    }
   ],
   "source": [
    "x = int(input('enter a number:' ))\n",
    "if x>10:\n",
    "    print('True')\n",
    "else:\n",
    "    print('False')\n",
    "    \n"
   ]
  },
  {
   "cell_type": "code",
   "execution_count": 21,
   "metadata": {},
   "outputs": [
    {
     "name": "stdout",
     "output_type": "stream",
     "text": [
      "{1, 2, 3, 4, 6}\n"
     ]
    }
   ],
   "source": [
    "x = {1,2,3,4,3,6}\n",
    "print(x)"
   ]
  },
  {
   "cell_type": "code",
   "execution_count": 25,
   "metadata": {},
   "outputs": [
    {
     "name": "stdout",
     "output_type": "stream",
     "text": [
      "{1, 2, 3, 4, 5, 6}\n"
     ]
    }
   ],
   "source": [
    "list1= [1,2,3]\n",
    "list2=[4,5,6]\n",
    "set1 = set(list1)\n",
    "set2 = set(list2)\n",
    "#print(set1)\n",
    "set1.update(list2)\n",
    "print(set1)"
   ]
  },
  {
   "cell_type": "code",
   "execution_count": 31,
   "metadata": {},
   "outputs": [
    {
     "name": "stdout",
     "output_type": "stream",
     "text": [
      "{1, 2, 3, 4, 5, 6}\n"
     ]
    }
   ],
   "source": [
    "x = {1,2,3,4,5,6}\n",
    "x.discard(7)\n",
    "print(x)"
   ]
  },
  {
   "cell_type": "code",
   "execution_count": 33,
   "metadata": {},
   "outputs": [
    {
     "name": "stdout",
     "output_type": "stream",
     "text": [
      "A,B: {1, 2, 3, 4, 5, 6}\n"
     ]
    }
   ],
   "source": [
    "A={1,2,3}   #UNION\n",
    "B ={4,5,6}\n",
    "print(\"A,B:\", A|B)"
   ]
  },
  {
   "cell_type": "code",
   "execution_count": 43,
   "metadata": {},
   "outputs": [
    {
     "name": "stdout",
     "output_type": "stream",
     "text": [
      "{2, 3}\n"
     ]
    }
   ],
   "source": [
    "A={1,2,3}  \n",
    "B ={3,2,6}\n",
    "print(A & B)"
   ]
  },
  {
   "cell_type": "code",
   "execution_count": 51,
   "metadata": {},
   "outputs": [
    {
     "name": "stdout",
     "output_type": "stream",
     "text": [
      "{2, 3}\n"
     ]
    }
   ],
   "source": [
    "x= {1,2,3}\n",
    "y= {2,3,4}\n",
    "x.intersection_update(y)\n",
    "print(x)\n"
   ]
  },
  {
   "cell_type": "code",
   "execution_count": 53,
   "metadata": {},
   "outputs": [
    {
     "name": "stdout",
     "output_type": "stream",
     "text": [
      "{1}\n",
      "{4}\n"
     ]
    }
   ],
   "source": [
    "x= {1,2,3}\n",
    "y= {2,3,4}\n",
    "print(x-y)\n",
    "print(y-x)"
   ]
  },
  {
   "cell_type": "code",
   "execution_count": 59,
   "metadata": {},
   "outputs": [
    {
     "name": "stdout",
     "output_type": "stream",
     "text": [
      "{1, 2}\n"
     ]
    },
    {
     "data": {
      "text/plain": [
       "{3, 4, 5, 6, 7}"
      ]
     },
     "execution_count": 59,
     "metadata": {},
     "output_type": "execute_result"
    }
   ],
   "source": [
    "x={1,2,3,4,5}\n",
    "y={3,4,5,6,7}\n",
    "x.difference_update(y)\n",
    "print(x)\n",
    "x-y\n",
    "y-x"
   ]
  },
  {
   "cell_type": "code",
   "execution_count": 63,
   "metadata": {},
   "outputs": [
    {
     "name": "stdout",
     "output_type": "stream",
     "text": [
      "True\n"
     ]
    }
   ],
   "source": [
    "x={1,2,9,8}\n",
    "y={3,5,6,7}\n",
    "print(x.isdisjoint(y))"
   ]
  },
  {
   "cell_type": "code",
   "execution_count": 69,
   "metadata": {},
   "outputs": [
    {
     "name": "stdout",
     "output_type": "stream",
     "text": [
      "False\n"
     ]
    }
   ],
   "source": [
    "x={1,2,3,4,5}\n",
    "y={4,5,6,7,6,1,2,4,}\n",
    "print(x.issubset(y))"
   ]
  },
  {
   "cell_type": "code",
   "execution_count": 73,
   "metadata": {},
   "outputs": [
    {
     "name": "stdout",
     "output_type": "stream",
     "text": [
      "False\n"
     ]
    }
   ],
   "source": [
    "x={1,2,3,4,5}\n",
    "y={4,5,6,7,6,1,2,4,}\n",
    "print(x.issuperset(y))"
   ]
  },
  {
   "cell_type": "code",
   "execution_count": 77,
   "metadata": {},
   "outputs": [
    {
     "name": "stdout",
     "output_type": "stream",
     "text": [
      "{1, 4}\n",
      "{2, 5}\n"
     ]
    }
   ],
   "source": [
    "list1=[1,2,3]\n",
    "list2=[2,3,4]\n",
    "list3=[3,4,5]\n",
    "set1=set(list1)\n",
    "set2=set(list2)\n",
    "print(set1.symmetric_difference(set2))\n",
    "print(set2.symmetric_difference(list3))"
   ]
  },
  {
   "cell_type": "code",
   "execution_count": 1,
   "metadata": {},
   "outputs": [
    {
     "name": "stdout",
     "output_type": "stream",
     "text": [
      "Not found\n"
     ]
    }
   ],
   "source": [
    "d = {1: '001', 2: '010', 3: '011'}\n",
    "\n",
    "print(d.get(4, \"Not found\"))"
   ]
  },
  {
   "cell_type": "code",
   "execution_count": 3,
   "metadata": {},
   "outputs": [
    {
     "name": "stdout",
     "output_type": "stream",
     "text": [
      "Dictionary items:\n",
      "dict_items([('A', 'Geeks'), ('B', 4), ('C', 'Geeks')])\n"
     ]
    }
   ],
   "source": [
    "Dictionary1 = { 'A': 'Geeks', 'B': 4, 'C': 'Geeks' }\n",
    "\n",
    "print(\"Dictionary items:\")\n",
    "\n",
    "# Printing all the items of the Dictionary\n",
    "print(Dictionary1.items())"
   ]
  },
  {
   "cell_type": "code",
   "execution_count": 5,
   "metadata": {},
   "outputs": [
    {
     "name": "stdout",
     "output_type": "stream",
     "text": [
      "Original Dictionary:\n",
      "{'A': 'Geeks', 'B': 'For'}\n",
      "Dictionary after updation:\n",
      "{'A': 'Geeks', 'B': 'Geeks'}\n"
     ]
    }
   ],
   "source": [
    "Dictionary1 = {'A': 'Geeks', 'B': 'For', }\n",
    "Dictionary2 = {'B': 'Geeks'}\n",
    "\n",
    "# Dictionary before Updation\n",
    "print(\"Original Dictionary:\")\n",
    "print(Dictionary1)\n",
    "\n",
    "# update the value of key 'B'\n",
    "Dictionary1.update(Dictionary2)\n",
    "print(\"Dictionary after updation:\")\n",
    "print(Dictionary1)"
   ]
  },
  {
   "cell_type": "code",
   "execution_count": 7,
   "metadata": {},
   "outputs": [
    {
     "name": "stdout",
     "output_type": "stream",
     "text": [
      "Original Dictionary:\n",
      "{'A': 'Geeks'}\n",
      "Dictionary after updation:\n",
      "{'A': 'Geeks', 'B': 'For', 'C': 'Geeks'}\n"
     ]
    }
   ],
   "source": [
    "Dictionary1 = {'A': 'Geeks'}\n",
    "\n",
    "# Dictionary before Updation\n",
    "print(\"Original Dictionary:\")\n",
    "print(Dictionary1)\n",
    "\n",
    "# update the Dictionary with iterable\n",
    "Dictionary1.update(B='For', C='Geeks')\n",
    "print(\"Dictionary after updation:\")\n",
    "print(Dictionary1)"
   ]
  },
  {
   "cell_type": "code",
   "execution_count": 5,
   "metadata": {},
   "outputs": [
    {
     "name": "stdout",
     "output_type": "stream",
     "text": [
      "{1: 'geeks'}\n",
      "geeks\n",
      "for\n"
     ]
    }
   ],
   "source": [
    "x={'dicta':{1:'geeks'},'dictb':{'name':'for'}}\n",
    "print(x['dicta'])\n",
    "print(x['dicta'][1])\n",
    "print(x['dictb']['name'])"
   ]
  },
  {
   "cell_type": "markdown",
   "metadata": {},
   "source": [
    "choice=int(input(\"enter your number\" ))\n",
    "if choice == 1:\n",
    "        print(\"Admin\")\n",
    "elif choice == 2:\n",
    "        print(\"Editor\")\n",
    "elif choice == 3:\n",
    "        print(\"Guest\")\n",
    "else:\n",
    "        print(\"Wrong entry\")        "
   ]
  },
  {
   "cell_type": "code",
   "execution_count": 1,
   "metadata": {},
   "outputs": [
    {
     "name": "stdout",
     "output_type": "stream",
     "text": [
      "hello \n"
     ]
    },
    {
     "name": "stdin",
     "output_type": "stream",
     "text": [
      "enter a number: 3\n"
     ]
    },
    {
     "name": "stdout",
     "output_type": "stream",
     "text": [
      "the number is -ve:\n"
     ]
    }
   ],
   "source": [
    "print(\"hello \")\n",
    "\n",
    "number=int(input(\"enter a number:\"))\n",
    "if number>=5:\n",
    "    print(\"the number is +ve\")\n",
    "else:\n",
    "    print(\"the number is -ve:\")"
   ]
  },
  {
   "cell_type": "code",
   "execution_count": 1,
   "metadata": {},
   "outputs": [
    {
     "name": "stdout",
     "output_type": "stream",
     "text": [
      "0\n",
      "1\n",
      "2\n",
      "3\n",
      "4\n",
      "5\n",
      "6\n",
      "7\n",
      "8\n",
      "9\n"
     ]
    }
   ],
   "source": [
    "#break statement \n",
    "for i in range(10):\n",
    "    print(i)"
   ]
  },
  {
   "cell_type": "code",
   "execution_count": 3,
   "metadata": {},
   "outputs": [
    {
     "name": "stdout",
     "output_type": "stream",
     "text": [
      "0 1 2 3 4 5 6 7 8 9 "
     ]
    }
   ],
   "source": [
    "for i in range(10):\n",
    "    print(i,end=\" \")"
   ]
  },
  {
   "cell_type": "code",
   "execution_count": 7,
   "metadata": {},
   "outputs": [
    {
     "name": "stdout",
     "output_type": "stream",
     "text": [
      "110\n"
     ]
    }
   ],
   "source": [
    "sum = 0\n",
    "for i in range(2, 22, 2):\n",
    "    sum +=i\n",
    "print(sum)"
   ]
  },
  {
   "cell_type": "code",
   "execution_count": 9,
   "metadata": {},
   "outputs": [
    {
     "name": "stdout",
     "output_type": "stream",
     "text": [
      "2\n",
      "6\n",
      "12\n",
      "20\n",
      "30\n",
      "42\n",
      "56\n",
      "72\n",
      "90\n",
      "110\n"
     ]
    }
   ],
   "source": [
    "sum = 0\n",
    "for i in range(2, 22, 2):\n",
    "    sum +=i\n",
    "    print(sum)"
   ]
  },
  {
   "cell_type": "code",
   "execution_count": 13,
   "metadata": {},
   "outputs": [
    {
     "name": "stdout",
     "output_type": "stream",
     "text": [
      "1 1\n",
      "2 4\n",
      "3 9\n",
      "4 16\n",
      "5 25\n"
     ]
    }
   ],
   "source": [
    "numbers = [1, 2, 3, 4, 5]\n",
    "for i in numbers:\n",
    "    square = i ** 2\n",
    "    print(i, square)"
   ]
  },
  {
   "cell_type": "code",
   "execution_count": 7,
   "metadata": {},
   "outputs": [
    {
     "name": "stdout",
     "output_type": "stream",
     "text": [
      "0\n",
      "1\n",
      "2\n",
      "3\n",
      "4\n",
      "5\n",
      "stop\n"
     ]
    }
   ],
   "source": [
    "for i in range(10):\n",
    "    if i > 5:\n",
    "          print(\"stop\")\n",
    "          break\n",
    "    print(i)   "
   ]
  },
  {
   "cell_type": "code",
   "execution_count": 1,
   "metadata": {},
   "outputs": [
    {
     "name": "stdout",
     "output_type": "stream",
     "text": [
      "30.0\n"
     ]
    }
   ],
   "source": [
    "numbers = [10, 20, 30, 40, 50]\n",
    "\n",
    "# definite iteration\n",
    "# run loop 5 times because list contains 5 items\n",
    "sum = 0\n",
    "for i in numbers:\n",
    "    sum = sum + i\n",
    "list_size = len(numbers)\n",
    "average = sum / list_size\n",
    "print(average)"
   ]
  },
  {
   "cell_type": "code",
   "execution_count": 4,
   "metadata": {},
   "outputs": [
    {
     "name": "stdout",
     "output_type": "stream",
     "text": [
      "Odd Number: 1\n",
      "Even Number: 2\n",
      "Odd Number: 3\n",
      "Even Number: 4\n",
      "Odd Number: 5\n",
      "Even Number: 6\n",
      "Odd Number: 7\n",
      "Even Number: 8\n",
      "Odd Number: 9\n",
      "Even Number: 10\n"
     ]
    }
   ],
   "source": [
    " for i in range(1, 11):\n",
    "    if i % 2 == 0:\n",
    "        print('Even Number:', i)\n",
    "    else:\n",
    "        print('Odd Number:', i)"
   ]
  },
  {
   "cell_type": "code",
   "execution_count": 1,
   "metadata": {},
   "outputs": [
    {
     "name": "stdout",
     "output_type": "stream",
     "text": [
      "1\n",
      "2\n"
     ]
    }
   ],
   "source": [
    "name = \"mariya mennen\"\n",
    "count=0\n",
    "for i in name:\n",
    "    if i!='m':\n",
    "        continue\n",
    "    else:\n",
    "         count=count+1\n",
    "         print(count)"
   ]
  },
  {
   "cell_type": "code",
   "execution_count": 22,
   "metadata": {},
   "outputs": [
    {
     "name": "stdout",
     "output_type": "stream",
     "text": [
      "1\n",
      "2\n"
     ]
    }
   ],
   "source": [
    " count = 0\n",
    "for i in range(1, 6):\n",
    "    count = count + 1\n",
    "    if count > 2:\n",
    "        break\n",
    "    else:\n",
    "        print(i)\n",
    "else:\n",
    "    print(\"Done\")"
   ]
  },
  {
   "cell_type": "code",
   "execution_count": 31,
   "metadata": {},
   "outputs": [
    {
     "name": "stdout",
     "output_type": "stream",
     "text": [
      "Reverse numbers using for loop\n",
      "5\n",
      "4\n",
      "3\n",
      "2\n",
      "1\n",
      "0\n"
     ]
    }
   ],
   "source": [
    "print(\"Reverse numbers using for loop\")\n",
    "num = 5\n",
    "# start = 5\n",
    "# stop = -1\n",
    "# step = -1\n",
    "for num in (range(num, -1, -1)):\n",
    "    print(num)"
   ]
  },
  {
   "cell_type": "code",
   "execution_count": 37,
   "metadata": {},
   "outputs": [
    {
     "name": "stdout",
     "output_type": "stream",
     "text": [
      "4\n",
      "3\n",
      "2\n",
      "1\n"
     ]
    }
   ],
   "source": [
    "numbers = [1, 2, 3, 4]\n",
    "for i in numbers[::-1]:\n",
    "    print(i)"
   ]
  },
  {
   "cell_type": "code",
   "execution_count": 50,
   "metadata": {},
   "outputs": [
    {
     "name": "stdout",
     "output_type": "stream",
     "text": [
      "*  \n",
      "* *  \n",
      "* * *  \n",
      "* * * *  \n",
      "* * * * *  \n"
     ]
    }
   ],
   "source": [
    "rows=5\n",
    "for i in range(1,rows+1):\n",
    "    for j in range(1,i+1):\n",
    "        print(\"*\",end=\" \")\n",
    "    print(' ')"
   ]
  },
  {
   "cell_type": "code",
   "execution_count": null,
   "metadata": {},
   "outputs": [],
   "source": [
    "dialogue = \"Remember, Red, hope is a good thing, maybe the best of things, and no good thing ever dies\"\n",
    "# split on whitespace\n",
    "for word in dialogue.split():\n",
    "    print(word)\n"
   ]
  },
  {
   "cell_type": "code",
   "execution_count": 48,
   "metadata": {},
   "outputs": [
    {
     "name": "stdout",
     "output_type": "stream",
     "text": [
      "['apple', 'banana', 'mango']\n"
     ]
    }
   ],
   "source": [
    "fruits = [\"apple\", \"banana\", \"cherry\", \"kiwi\", \"mango\"]\n",
    "newlist = []\n",
    "\n",
    "for x in fruits:\n",
    "  if \"a\" in x:\n",
    "    newlist.append(x)\n",
    "\n",
    "print(newlist)"
   ]
  },
  {
   "cell_type": "code",
   "execution_count": 1,
   "metadata": {},
   "outputs": [
    {
     "name": "stdout",
     "output_type": "stream",
     "text": [
      "1\n",
      "2\n"
     ]
    }
   ],
   "source": [
    "count = 1\n",
    "# condition: Run loop till count is less than 3\n",
    "while count < 3:\n",
    "    print(count)\n",
    "    count = count + 1"
   ]
  },
  {
   "cell_type": "code",
   "execution_count": 3,
   "metadata": {},
   "outputs": [
    {
     "name": "stdout",
     "output_type": "stream",
     "text": [
      "Total iteration required 3\n"
     ]
    }
   ],
   "source": [
    "count = 0\n",
    "number = 180\n",
    "while number > 10:\n",
    "    # divide number by 3\n",
    "    number = number / 3\n",
    "    # increase count\n",
    "    count = count + 1\n",
    "print('Total iteration required', count)"
   ]
  },
  {
   "cell_type": "code",
   "execution_count": 7,
   "metadata": {},
   "outputs": [
    {
     "name": "stdin",
     "output_type": "stream",
     "text": [
      "Enter any number between 100 and 500  600\n"
     ]
    },
    {
     "name": "stdout",
     "output_type": "stream",
     "text": [
      "Incorrect number, Please enter correct number:\n"
     ]
    },
    {
     "name": "stdin",
     "output_type": "stream",
     "text": [
      "Enter a Number between 100 and 500  30\n"
     ]
    },
    {
     "name": "stdout",
     "output_type": "stream",
     "text": [
      "Incorrect number, Please enter correct number:\n"
     ]
    },
    {
     "name": "stdin",
     "output_type": "stream",
     "text": [
      "Enter a Number between 100 and 500  300\n"
     ]
    },
    {
     "name": "stdout",
     "output_type": "stream",
     "text": [
      "Given Number is correct 300\n"
     ]
    }
   ],
   "source": [
    "number = int(input('Enter any number between 100 and 500 '))\n",
    "# number greater than 100 and less than 500\n",
    "while number < 100 or number > 500:\n",
    "    print('Incorrect number, Please enter correct number:')\n",
    "    number = int(input('Enter a Number between 100 and 500 '))\n",
    "else:\n",
    "    print(\"Given Number is correct\", number)\n"
   ]
  },
  {
   "cell_type": "code",
   "execution_count": null,
   "metadata": {},
   "outputs": [],
   "source": [
    "# Infinite whi"
   ]
  },
  {
   "cell_type": "code",
   "execution_count": 1,
   "metadata": {},
   "outputs": [
    {
     "name": "stdout",
     "output_type": "stream",
     "text": [
      "even\n",
      "odd\n",
      "even\n",
      "odd\n",
      "even\n",
      "odd\n",
      "even\n",
      "odd\n",
      "even\n",
      "odd\n"
     ]
    }
   ],
   "source": [
    "n=10\n",
    "while n > 0:\n",
    "    if n % 2 == 0:\n",
    "        print(\"even\")\n",
    "    else:\n",
    "        print(\"odd\")\n",
    "    n = n - 1"
   ]
  },
  {
   "cell_type": "code",
   "execution_count": 1,
   "metadata": {},
   "outputs": [
    {
     "name": "stdout",
     "output_type": "stream",
     "text": [
      "j e s s o "
     ]
    }
   ],
   "source": [
    "name='jesso29roy'\n",
    "size=10\n",
    "i=0\n",
    "while i<size:\n",
    "    if name[i].isdecimal():\n",
    "        break\n",
    "        \n",
    "    print(name[i],end=\" \")\n",
    "    i=i+1"
   ]
  },
  {
   "cell_type": "code",
   "execution_count": 18,
   "metadata": {},
   "outputs": [
    {
     "name": "stdout",
     "output_type": "stream",
     "text": [
      "j e s s o r o y "
     ]
    }
   ],
   "source": [
    "name='jesso29roy'\n",
    "size=10\n",
    "i=-1\n",
    "while i<size-1:\n",
    "    i=i+1\n",
    "    if not name[i].isalpha():\n",
    "        continue\n",
    "        \n",
    "    print(name[i],end=\" \")\n"
   ]
  },
  {
   "cell_type": "code",
   "execution_count": 24,
   "metadata": {},
   "outputs": [
    {
     "ename": "SyntaxError",
     "evalue": "invalid syntax (3508393593.py, line 4)",
     "output_type": "error",
     "traceback": [
      "\u001b[1;36m  Cell \u001b[1;32mIn[24], line 4\u001b[1;36m\u001b[0m\n\u001b[1;33m    for i < 5:\u001b[0m\n\u001b[1;37m          ^\u001b[0m\n\u001b[1;31mSyntaxError\u001b[0m\u001b[1;31m:\u001b[0m invalid syntax\n"
     ]
    }
   ],
   "source": [
    "\n",
    "i = 1\n",
    "# outer while loop\n",
    "# 4 rows in pattern\n",
    "for i < 5:\n",
    "    j = 0\n",
    "    # nested while loop\n",
    "    for j < i:\n",
    "        print('*', end=' ')\n",
    "        j = j + 1\n",
    "    # end of nested while loop\n",
    "    # new line after each row\n",
    "    print('')\n",
    "    i = i + 1\n"
   ]
  },
  {
   "cell_type": "code",
   "execution_count": 9,
   "metadata": {},
   "outputs": [
    {
     "name": "stdin",
     "output_type": "stream",
     "text": [
      "enter n : 6\n"
     ]
    },
    {
     "name": "stdout",
     "output_type": "stream",
     "text": [
      "*  \n",
      "* *  \n",
      "* * *  \n",
      "* * * *  \n",
      "* * * * *  \n",
      "* * * * * *  \n"
     ]
    }
   ],
   "source": [
    "n=int(input(\"enter n :\"))\n",
    "for i in range(1, n + 1):\n",
    "    for j in range(1, i + 1):\n",
    "        print(\"* \", end=\"\")\n",
    "    print(\" \")\n",
    "\n"
   ]
  },
  {
   "cell_type": "code",
   "execution_count": 1,
   "metadata": {},
   "outputs": [
    {
     "name": "stdout",
     "output_type": "stream",
     "text": [
      "10 9 8 7 6 5 4 3 2 1 0 "
     ]
    }
   ],
   "source": [
    "# reverse while loop\n",
    "i = 10\n",
    "while i >= 0:\n",
    "    print(i, end=' ')\n",
    "    i = i - 1"
   ]
  },
  {
   "cell_type": "code",
   "execution_count": 7,
   "metadata": {},
   "outputs": [
    {
     "name": "stdout",
     "output_type": "stream",
     "text": [
      "J\n",
      "e\n",
      "s\n",
      "s\n",
      "a\n"
     ]
    }
   ],
   "source": [
    "name = \"Jessa\"\n",
    "i = 0\n",
    "res = len(name) - 1\n",
    "while i <= res:\n",
    "    print(name[i])\n",
    "    i = i + 1\n"
   ]
  },
  {
   "cell_type": "code",
   "execution_count": 5,
   "metadata": {},
   "outputs": [
    {
     "name": "stdout",
     "output_type": "stream",
     "text": [
      "1\n",
      "2\n",
      "4\n",
      "5\n",
      "7\n"
     ]
    }
   ],
   "source": [
    "numbers = [1, 2, 4, 5, 7]\n",
    "size = len(numbers)\n",
    "i = 0\n",
    "while i < size:\n",
    "    print(numbers[i])\n",
    "    i = i + 1"
   ]
  },
  {
   "cell_type": "code",
   "execution_count": 5,
   "metadata": {},
   "outputs": [
    {
     "name": "stdin",
     "output_type": "stream",
     "text": [
      "enter a number:  2\n"
     ]
    },
    {
     "name": "stdout",
     "output_type": "stream",
     "text": [
      "True\n"
     ]
    }
   ],
   "source": [
    "n=int(input(\"enter a number: \"))\n",
    "for i in range(1,n):\n",
    "    if n%2==0:\n",
    "       print(True)\n",
    "    else:\n",
    "       print(False)\n",
    "    "
   ]
  },
  {
   "cell_type": "code",
   "execution_count": 12,
   "metadata": {},
   "outputs": [
    {
     "name": "stdin",
     "output_type": "stream",
     "text": [
      "Enter the 1 Value:  1\n",
      "Enter the 2 Value:  50\n"
     ]
    },
    {
     "name": "stdout",
     "output_type": "stream",
     "text": [
      "2\n",
      "3\n",
      "5\n",
      "7\n",
      "11\n",
      "13\n",
      "17\n",
      "19\n",
      "23\n",
      "29\n",
      "31\n",
      "37\n",
      "41\n",
      "43\n",
      "47\n"
     ]
    }
   ],
   "source": [
    "num1 = int(input (\"Enter the 1 Value: \"))  \n",
    "num2 = int(input (\"Enter the 2 Value: \"))  \n",
    "   \n",
    "for number in range (num1, num2 + 1):  \n",
    "    if number > 1:  \n",
    "        for i in range (2, number):  \n",
    "            if (number %i) == 0:  \n",
    "                break  \n",
    "        else:  \n",
    "            print (number)  "
   ]
  },
  {
   "cell_type": "code",
   "execution_count": 11,
   "metadata": {},
   "outputs": [
    {
     "name": "stdin",
     "output_type": "stream",
     "text": [
      "Enter number  1\n"
     ]
    },
    {
     "name": "stdout",
     "output_type": "stream",
     "text": [
      "Sum is: 1\n"
     ]
    }
   ],
   "source": [
    "# Calculate sum of all numbers from 1 to a given number\n",
    "n = int(input(\"Enter number \"))\n",
    "# pass range of numbers to sum() function\n",
    "x = sum(range(1, n + 1))\n",
    "print('Sum is:', x)\n"
   ]
  },
  {
   "cell_type": "code",
   "execution_count": 2,
   "metadata": {},
   "outputs": [
    {
     "name": "stdout",
     "output_type": "stream",
     "text": [
      "4\n",
      "6\n",
      "8\n",
      "9\n",
      "10\n",
      "12\n",
      "14\n",
      "15\n",
      "16\n",
      "18\n",
      "20\n",
      "21\n",
      "22\n",
      "24\n",
      "25\n",
      "26\n",
      "27\n",
      "28\n",
      "30\n",
      "32\n",
      "33\n",
      "34\n",
      "35\n",
      "36\n",
      "38\n",
      "39\n",
      "40\n",
      "42\n",
      "44\n",
      "45\n",
      "46\n",
      "48\n",
      "49\n",
      "50\n"
     ]
    }
   ],
   "source": [
    "# Initialize the number\n",
    "num = 4  # Starting from 4 since 1, 2, and 3 are not composite numbers\n",
    "\n",
    "# Loop through numbers from 4 to 50\n",
    "while num <= 50:\n",
    "    # Initialize a flag to check if the number is composite\n",
    "    is_composite = False\n",
    "    \n",
    "    # Check divisibility for all numbers less than 'num'\n",
    "    divisor = 2\n",
    "    while divisor <= num // 2:\n",
    "        if num % divisor == 0:\n",
    "            is_composite = True\n",
    "            break\n",
    "        divisor += 1\n",
    "    \n",
    "    # If it's a composite number, print it\n",
    "    if is_composite:\n",
    "        print(num)\n",
    "    \n",
    "    # Move to the next number\n",
    "    num += 1\n"
   ]
  },
  {
   "cell_type": "code",
   "execution_count": 26,
   "metadata": {},
   "outputs": [
    {
     "name": "stdout",
     "output_type": "stream",
     "text": [
      "composite between 1 and 100 are:\n",
      "5\n",
      "7\n",
      "9\n",
      "11\n",
      "11\n",
      "13\n",
      "13\n",
      "15\n",
      "17\n",
      "17\n",
      "17\n",
      "19\n",
      "19\n",
      "19\n",
      "21\n",
      "23\n",
      "23\n",
      "23\n",
      "25\n",
      "25\n",
      "25\n",
      "27\n",
      "29\n",
      "29\n",
      "29\n",
      "29\n",
      "31\n",
      "31\n",
      "31\n",
      "31\n",
      "33\n",
      "35\n",
      "35\n",
      "35\n",
      "37\n",
      "37\n",
      "37\n",
      "37\n",
      "37\n",
      "39\n",
      "41\n",
      "41\n",
      "41\n",
      "41\n",
      "41\n",
      "43\n",
      "43\n",
      "43\n",
      "43\n",
      "43\n",
      "45\n",
      "47\n",
      "47\n",
      "47\n",
      "47\n",
      "47\n",
      "49\n",
      "49\n",
      "49\n",
      "49\n",
      "49\n",
      "51\n",
      "53\n",
      "53\n",
      "53\n",
      "53\n",
      "53\n",
      "53\n",
      "55\n",
      "55\n",
      "55\n",
      "57\n",
      "59\n",
      "59\n",
      "59\n",
      "59\n",
      "59\n",
      "59\n",
      "61\n",
      "61\n",
      "61\n",
      "61\n",
      "61\n",
      "61\n",
      "63\n",
      "65\n",
      "65\n",
      "65\n",
      "67\n",
      "67\n",
      "67\n",
      "67\n",
      "67\n",
      "67\n",
      "67\n",
      "69\n",
      "71\n",
      "71\n",
      "71\n",
      "71\n",
      "71\n",
      "71\n",
      "71\n",
      "73\n",
      "73\n",
      "73\n",
      "73\n",
      "73\n",
      "73\n",
      "73\n",
      "75\n",
      "77\n",
      "77\n",
      "77\n",
      "77\n",
      "77\n",
      "79\n",
      "79\n",
      "79\n",
      "79\n",
      "79\n",
      "79\n",
      "79\n",
      "81\n",
      "83\n",
      "83\n",
      "83\n",
      "83\n",
      "83\n",
      "83\n",
      "83\n",
      "83\n",
      "85\n",
      "85\n",
      "85\n",
      "87\n",
      "89\n",
      "89\n",
      "89\n",
      "89\n",
      "89\n",
      "89\n",
      "89\n",
      "89\n",
      "91\n",
      "91\n",
      "91\n",
      "91\n",
      "91\n",
      "93\n",
      "95\n",
      "95\n",
      "95\n",
      "97\n",
      "97\n",
      "97\n",
      "97\n",
      "97\n",
      "97\n",
      "97\n",
      "97\n",
      "99\n"
     ]
    }
   ],
   "source": [
    "start = 1\n",
    "end = 100\n",
    "print(\"composite between\",start,\"and\",end,\"are:\")\n",
    "for num in range(start,end + 1):\n",
    "    if num >1:\n",
    "        for i in range(2, int(num**0.5)+1):\n",
    "            if (num % i) == 0:\n",
    "                break\n",
    "            else:\n",
    "                print(num)"
   ]
  },
  {
   "cell_type": "code",
   "execution_count": 1,
   "metadata": {},
   "outputs": [
    {
     "name": "stdout",
     "output_type": "stream",
     "text": [
      "Welcome to PYnative\n"
     ]
    }
   ],
   "source": [
    "#python function\n",
    "# function\n",
    "def message():\n",
    "    print(\"Welcome to PYnative\")\n",
    "\n",
    "# call function using its name\n",
    "message()"
   ]
  },
  {
   "cell_type": "code",
   "execution_count": 3,
   "metadata": {},
   "outputs": [
    {
     "name": "stdout",
     "output_type": "stream",
     "text": [
      "Hello John Welcome to PYnative\n",
      "Your course name is Python\n"
     ]
    }
   ],
   "source": [
    "# function\n",
    "def course_func(name, course_name):\n",
    "    print(\"Hello\", name, \"Welcome to PYnative\")\n",
    "    print(\"Your course name is\", course_name)\n",
    "\n",
    "# call function\n",
    "course_func('John', 'Python')"
   ]
  },
  {
   "cell_type": "code",
   "execution_count": 7,
   "metadata": {},
   "outputs": [
    {
     "name": "stdout",
     "output_type": "stream",
     "text": [
      "3\n"
     ]
    }
   ],
   "source": [
    "#python function\n",
    "def calculater(a,b):\n",
    "    add = a+b\n",
    "    sub = a-b\n",
    "    multi = a*b\n",
    "    divi = a/b\n",
    "\n",
    "    return add\n",
    "    return sub\n",
    "    return multi\n",
    "    return divi\n",
    "\n",
    "res=calculater(1,2)\n",
    "print(res)\n"
   ]
  },
  {
   "cell_type": "code",
   "execution_count": 11,
   "metadata": {},
   "outputs": [
    {
     "name": "stdout",
     "output_type": "stream",
     "text": [
      "Emil Refsnes\n",
      "Tobias Refsnes\n",
      "Linus Refsnes\n"
     ]
    }
   ],
   "source": [
    "def my_function(fname):\n",
    "  print(fname + \" Refsnes\")\n",
    "\n",
    "my_function(\"Emil\")\n",
    "my_function(\"Tobias\")\n",
    "my_function(\"Linus\")"
   ]
  },
  {
   "cell_type": "code",
   "execution_count": 13,
   "metadata": {},
   "outputs": [
    {
     "name": "stdout",
     "output_type": "stream",
     "text": [
      "The youngest child is Linus\n"
     ]
    }
   ],
   "source": [
    "#Arbitrary Arguments, *args\n",
    "def my_function(*kids):\n",
    "  print(\"The youngest child is \" + kids[2])\n",
    "\n",
    "my_function(\"Emil\", \"Tobias\", \"Linus\")"
   ]
  },
  {
   "cell_type": "code",
   "execution_count": 15,
   "metadata": {},
   "outputs": [
    {
     "name": "stdout",
     "output_type": "stream",
     "text": [
      "The youngest child is Linus\n"
     ]
    }
   ],
   "source": [
    "#Keyword Arguments\n",
    "def my_function(child3, child2, child1):\n",
    "  print(\"The youngest child is \" + child3)\n",
    "\n",
    "my_function(child1 = \"Emil\", child2 = \"Tobias\", child3 = \"Linus\")"
   ]
  },
  {
   "cell_type": "code",
   "execution_count": 17,
   "metadata": {},
   "outputs": [
    {
     "name": "stdout",
     "output_type": "stream",
     "text": [
      "His last name is Refsnes\n"
     ]
    }
   ],
   "source": [
    "#Arbitrary Keyword Arguments, **kwargs\n",
    "def my_function(**kid):\n",
    "  print(\"His last name is \" + kid[\"lname\"])\n",
    "\n",
    "my_function(fname = \"Tobias\", lname = \"Refsnes\")"
   ]
  },
  {
   "cell_type": "code",
   "execution_count": 19,
   "metadata": {},
   "outputs": [
    {
     "name": "stdout",
     "output_type": "stream",
     "text": [
      "I am from Sweden\n",
      "I am from India\n",
      "I am from Norway\n",
      "I am from Brazil\n"
     ]
    }
   ],
   "source": [
    "#Default Parameter Value\n",
    "def my_function(country = \"Norway\"):\n",
    "  print(\"I am from \" + country)\n",
    "\n",
    "my_function(\"Sweden\")\n",
    "my_function(\"India\")\n",
    "my_function()\n",
    "my_function(\"Brazil\")\n"
   ]
  },
  {
   "cell_type": "code",
   "execution_count": 21,
   "metadata": {},
   "outputs": [
    {
     "name": "stdout",
     "output_type": "stream",
     "text": [
      "apple\n",
      "banana\n",
      "cherry\n"
     ]
    }
   ],
   "source": [
    "#Passing a List as an Argument\n",
    "def my_function(food):\n",
    "  for x in food:\n",
    "    print(x)\n",
    "\n",
    "fruits = [\"apple\", \"banana\", \"cherry\"]\n",
    "\n",
    "my_function(fruits)"
   ]
  },
  {
   "cell_type": "code",
   "execution_count": 29,
   "metadata": {},
   "outputs": [
    {
     "name": "stdout",
     "output_type": "stream",
     "text": [
      "cherry\n",
      "apple\n",
      "banana\n"
     ]
    }
   ],
   "source": [
    "def my_function(food):\n",
    "  for x in food:\n",
    "    print(x)\n",
    "\n",
    "fruits = {\"apple\", \"banana\", \"cherry\"}\n",
    "\n",
    "my_function(fruits)"
   ]
  },
  {
   "cell_type": "code",
   "execution_count": 31,
   "metadata": {},
   "outputs": [
    {
     "name": "stdout",
     "output_type": "stream",
     "text": [
      "16\n"
     ]
    }
   ],
   "source": [
    "#Calling a function of a module , randint\n",
    "from random import randint\n",
    "\n",
    "# call randint function to get random number\n",
    "print(randint(10, 20))"
   ]
  },
  {
   "cell_type": "code",
   "execution_count": 33,
   "metadata": {},
   "outputs": [
    {
     "name": "stdout",
     "output_type": "stream",
     "text": [
      "['apple', 'cherry', 'banana']\n"
     ]
    }
   ],
   "source": [
    "#suffle\n",
    "import random\n",
    "\n",
    "mylist = [\"apple\", \"banana\", \"cherry\"]\n",
    "random.shuffle(mylist)\n",
    "\n",
    "print(mylist)"
   ]
  },
  {
   "cell_type": "code",
   "execution_count": 35,
   "metadata": {},
   "outputs": [
    {
     "name": "stdout",
     "output_type": "stream",
     "text": [
      "6\n"
     ]
    }
   ],
   "source": [
    "#randrange\n",
    "import random\n",
    "\n",
    "print(random.randrange(3, 9))\n"
   ]
  },
  {
   "cell_type": "code",
   "execution_count": 37,
   "metadata": {},
   "outputs": [
    {
     "name": "stdout",
     "output_type": "stream",
     "text": [
      "0.5714025946899135\n"
     ]
    }
   ],
   "source": [
    "#seed\n",
    "import random\n",
    "\n",
    "random.seed(10)\n",
    "print(random.random())"
   ]
  },
  {
   "cell_type": "code",
   "execution_count": 39,
   "metadata": {},
   "outputs": [
    {
     "name": "stdout",
     "output_type": "stream",
     "text": [
      "This function returns the factorial of a given number.\n"
     ]
    }
   ],
   "source": [
    "# Docstring\n",
    "def factorial(x):\n",
    "    \"\"\"This function returns the factorial of a given number.\"\"\"\n",
    "    return x\n",
    "\n",
    "# access doc string\n",
    "print(factorial.__doc__)"
   ]
  },
  {
   "cell_type": "code",
   "execution_count": 41,
   "metadata": {},
   "outputs": [
    {
     "name": "stdout",
     "output_type": "stream",
     "text": [
      "Help on function factorial in module __main__:\n",
      "\n",
      "factorial(x)\n",
      "    This function returns the factorial of a given number.\n",
      "\n",
      "None\n"
     ]
    }
   ],
   "source": [
    "#help\n",
    "# pass function name to help() function\n",
    "print(help(factorial))"
   ]
  },
  {
   "cell_type": "code",
   "execution_count": 9,
   "metadata": {},
   "outputs": [
    {
     "name": "stdout",
     "output_type": "stream",
     "text": [
      "300\n"
     ]
    }
   ],
   "source": [
    "#scope Local Scope\n",
    "def myfunc():\n",
    "  x = 300\n",
    "  print(x)\n",
    "\n",
    "myfunc()"
   ]
  },
  {
   "cell_type": "code",
   "execution_count": 11,
   "metadata": {},
   "outputs": [
    {
     "name": "stdout",
     "output_type": "stream",
     "text": [
      "300\n"
     ]
    }
   ],
   "source": [
    "#Global Scope\n",
    "def myfunc():\n",
    "  x = 300\n",
    "  def myinnerfunc():\n",
    "    print(x)\n",
    "  myinnerfunc()\n",
    "\n",
    "myfunc()"
   ]
  },
  {
   "cell_type": "code",
   "execution_count": null,
   "metadata": {},
   "outputs": [],
   "source": []
  },
  {
   "cell_type": "code",
   "execution_count": 19,
   "metadata": {},
   "outputs": [
    {
     "name": "stdout",
     "output_type": "stream",
     "text": [
      "300\n"
     ]
    }
   ],
   "source": [
    "#Global Keyword,local\n",
    "\n",
    "x = 300\n",
    "\n",
    "def myfunc():\n",
    "  global x\n",
    "  x = 200\n",
    "\n",
    "myfunc()\n",
    "\n",
    "print(x)"
   ]
  },
  {
   "cell_type": "code",
   "execution_count": 25,
   "metadata": {},
   "outputs": [
    {
     "name": "stdout",
     "output_type": "stream",
     "text": [
      "hello\n"
     ]
    }
   ],
   "source": [
    "#nonlocal\n",
    "def myfunc1():\n",
    "  x = \"Jane\"\n",
    "  def myfunc2():\n",
    "    nonlocal x\n",
    "    x = \"hello\"\n",
    "  myfunc2()\n",
    "  return x\n",
    "\n",
    "print(myfunc1())\n"
   ]
  },
  {
   "cell_type": "code",
   "execution_count": 31,
   "metadata": {},
   "outputs": [
    {
     "name": "stdout",
     "output_type": "stream",
     "text": [
      "1\n",
      "3\n",
      "6\n",
      "10\n",
      "15\n",
      "21\n"
     ]
    }
   ],
   "source": [
    "#recursion\n",
    "def sum(n):\n",
    "    if n<=1:           #base case\n",
    "        return n\n",
    "    else:\n",
    "        ans=sum(n-1) #general case\n",
    "    print(ans)\n",
    "    return n+ans\n",
    "print(sum(6))"
   ]
  },
  {
   "cell_type": "code",
   "execution_count": 1,
   "metadata": {},
   "outputs": [
    {
     "name": "stdout",
     "output_type": "stream",
     "text": [
      "5\n",
      "4\n",
      "3\n",
      "2\n",
      "1\n"
     ]
    }
   ],
   "source": [
    "#tail recursion\n",
    "def dispn(n):\n",
    "    if n==0:\n",
    "        return\n",
    "    print(n)\n",
    "    dispn(n-1)\n",
    "dispn(5)"
   ]
  },
  {
   "cell_type": "code",
   "execution_count": 3,
   "metadata": {},
   "outputs": [
    {
     "name": "stdout",
     "output_type": "stream",
     "text": [
      "1\n",
      "2\n",
      "3\n",
      "4\n",
      "5\n"
     ]
    }
   ],
   "source": [
    "def dispn(n):\n",
    "    if n==0:\n",
    "        return\n",
    "    dispn(n-1)\n",
    "    print(n)\n",
    "dispn(5)"
   ]
  },
  {
   "cell_type": "code",
   "execution_count": 7,
   "metadata": {},
   "outputs": [
    {
     "name": "stdout",
     "output_type": "stream",
     "text": [
      "1 2 3 4 5 "
     ]
    }
   ],
   "source": [
    "#head recursion\n",
    "def headr(n):\n",
    "    if n>0:\n",
    "        headr(n-1)\n",
    "        print(n,end=\" \")\n",
    "headr(5)        \n",
    "        "
   ]
  },
  {
   "cell_type": "code",
   "execution_count": 9,
   "metadata": {},
   "outputs": [
    {
     "name": "stdout",
     "output_type": "stream",
     "text": [
      "  20   21   16   17   12   13   8   9   4   5 "
     ]
    }
   ],
   "source": [
    "#indirect recursion\n",
    "def A(n):\n",
    "    if n>0:\n",
    "        print(\" \",n,end=\" \")\n",
    "        B(n+1)\n",
    "def B(n):\n",
    "    if n>1:\n",
    "        print(\" \",n,end=\" \")\n",
    "        A(n-5)\n",
    "A(20)"
   ]
  },
  {
   "cell_type": "code",
   "execution_count": 11,
   "metadata": {},
   "outputs": [
    {
     "name": "stdout",
     "output_type": "stream",
     "text": [
      "factorial of a number is: 40320\n"
     ]
    }
   ],
   "source": [
    "def factorial(no):\n",
    "    if no == 0:\n",
    "        return 1\n",
    "    else:\n",
    "        return no * factorial(no - 1)\n",
    "\n",
    "print(\"factorial of a number is:\", factorial(8))\n"
   ]
  },
  {
   "cell_type": "code",
   "execution_count": 15,
   "metadata": {},
   "outputs": [
    {
     "name": "stdout",
     "output_type": "stream",
     "text": [
      "1\n",
      "3\n",
      "6\n",
      "10\n",
      "15\n",
      "21\n"
     ]
    },
    {
     "data": {
      "text/plain": [
       "21"
      ]
     },
     "execution_count": 15,
     "metadata": {},
     "output_type": "execute_result"
    }
   ],
   "source": [
    "#EG RECURSION\n",
    "def tri(k):\n",
    "  if(k>0):\n",
    "    result = k+tri(k-1)\n",
    "    print(result)\n",
    "  else:\n",
    "    result = 0\n",
    "  return result\n",
    "\n",
    "#print(\"\\n\\nRecursion Example Results\")\n",
    "tri(6)"
   ]
  },
  {
   "cell_type": "code",
   "execution_count": 1,
   "metadata": {},
   "outputs": [
    {
     "name": "stdout",
     "output_type": "stream",
     "text": [
      "[10, 12, 78, 6]\n"
     ]
    }
   ],
   "source": [
    "#lambda\n",
    "l = [10, 5, 12, 78, 6, 1, 7, 9]\n",
    "even = list(filter(lambda x: x % 2 == 0, l))\n",
    "print(even)"
   ]
  },
  {
   "cell_type": "code",
   "execution_count": 27,
   "metadata": {},
   "outputs": [
    {
     "name": "stdout",
     "output_type": "stream",
     "text": [
      "Inside vehical class\n",
      "Inside car class\n"
     ]
    }
   ],
   "source": [
    "# single inhertanceeeeeeeeeeeeeeeeeeeeeeeeeeeeeeeeeeeeeeeeeeeee\n",
    "\n",
    "class vehical:\n",
    "    def vehical_info(self):\n",
    "        print('Inside vehical class')\n",
    "class car(vehical):\n",
    "    def car_info(self):\n",
    "        print('Inside car class')\n",
    "\n",
    "car=car()\n",
    "car.vehical_info()\n",
    "car.car_info()"
   ]
  },
  {
   "cell_type": "code",
   "execution_count": 49,
   "metadata": {},
   "outputs": [
    {
     "name": "stdout",
     "output_type": "stream",
     "text": [
      "Inside Person class\n",
      "Name: jassa Age: 29\n",
      "Inside Company class\n",
      "Name: google location: america\n",
      "Inside employee class\n",
      "salary: 45000 skill: python\n"
     ]
    }
   ],
   "source": [
    "#  MULTIPLE INHERITANCE                         \n",
    "class person:\n",
    "    def person_info(self, name, age):\n",
    "        print('Inside person class')\n",
    "        print('Name:',name,'Age:',age)\n",
    "class company:\n",
    "    def company_info(self,company_name, location):\n",
    "        print('Inside company class')\n",
    "        print('Name:',company_name, 'location:',location)\n",
    "class Employee(Person ,Company):\n",
    "    def Employee_info(self,salary,skill):\n",
    "        print('Inside employee class')\n",
    "        print('salary:',salary,'skill:',skill)\n",
    "\n",
    "em=Employee()\n",
    "em.person_info('jassa',29)\n",
    "em.company_info('google','america')\n",
    "em.Employee_info(45000,'python')"
   ]
  },
  {
   "cell_type": "code",
   "execution_count": 93,
   "metadata": {},
   "outputs": [
    {
     "name": "stdout",
     "output_type": "stream",
     "text": [
      "Inside Vehicle class\n",
      "Inside Car class\n",
      "Inside SportsCar class\n"
     ]
    }
   ],
   "source": [
    "#MULTILEVEL INHERITANCE\n",
    "class Vehicle:\n",
    "    def Vehicle_info(self):\n",
    "        print('Inside Vehicle class')\n",
    "        \n",
    "class Car(Vehicle):\n",
    "    def car_info(self):\n",
    "        print('Inside Car class')\n",
    "        \n",
    "class SportsCar(Car):\n",
    "    def sports_car_info(self):\n",
    "        print('Inside SportsCar class')\n",
    "        \n",
    "s_car = SportsCar()\n",
    "s_car.Vehicle_info()\n",
    "s_car.car_info()\n",
    "s_car.sports_car_info()\n"
   ]
  },
  {
   "cell_type": "code",
   "execution_count": 12,
   "metadata": {},
   "outputs": [
    {
     "name": "stdout",
     "output_type": "stream",
     "text": [
      "This is vehical\n",
      "car name is: BMW\n",
      "This is vehical\n",
      "Truck name is: Ford\n"
     ]
    }
   ],
   "source": [
    "# HIERACHICAL INHERITANCE\n",
    "class vehical:\n",
    "    def info(self):\n",
    "        print(\"This is vehical\")\n",
    "\n",
    "class Car(vehical):\n",
    "    def car_info(self,name):\n",
    "        print(\"car name is:\",name)\n",
    "\n",
    "class Truck(vehical):\n",
    "    def truck_info(self,name):\n",
    "        print(\"Truck name is:\",name)\n",
    "\n",
    "obj1=Car()\n",
    "obj1.info()\n",
    "obj1.car_info('BMW')\n",
    "\n",
    "obj2=Truck()\n",
    "obj2.info()\n",
    "obj2.truck_info('Ford')"
   ]
  },
  {
   "cell_type": "code",
   "execution_count": 14,
   "metadata": {},
   "outputs": [],
   "source": [
    "#SUB CLASS\n"
   ]
  },
  {
   "cell_type": "code",
   "execution_count": null,
   "metadata": {},
   "outputs": [],
   "source": [
    "# ISCLASS"
   ]
  },
  {
   "cell_type": "code",
   "execution_count": null,
   "metadata": {},
   "outputs": [],
   "source": [
    "#ISINSTANCE()"
   ]
  },
  {
   "cell_type": "code",
   "execution_count": null,
   "metadata": {},
   "outputs": [],
   "source": [
    "# METHOD OVERRIDING"
   ]
  },
  {
   "cell_type": "code",
   "execution_count": null,
   "metadata": {},
   "outputs": [],
   "source": []
  },
  {
   "cell_type": "code",
   "execution_count": null,
   "metadata": {},
   "outputs": [],
   "source": []
  },
  {
   "cell_type": "code",
   "execution_count": null,
   "metadata": {},
   "outputs": [],
   "source": []
  },
  {
   "cell_type": "code",
   "execution_count": null,
   "metadata": {},
   "outputs": [],
   "source": []
  },
  {
   "cell_type": "code",
   "execution_count": null,
   "metadata": {},
   "outputs": [],
   "source": []
  },
  {
   "cell_type": "code",
   "execution_count": null,
   "metadata": {},
   "outputs": [],
   "source": []
  },
  {
   "cell_type": "code",
   "execution_count": null,
   "metadata": {},
   "outputs": [],
   "source": []
  },
  {
   "cell_type": "code",
   "execution_count": null,
   "metadata": {},
   "outputs": [],
   "source": []
  },
  {
   "cell_type": "code",
   "execution_count": null,
   "metadata": {},
   "outputs": [],
   "source": []
  },
  {
   "cell_type": "code",
   "execution_count": null,
   "metadata": {},
   "outputs": [],
   "source": [
    "x [20,13,4,8,9,]\n",
    "y=reduce(lambda a,b:a+b,x)"
   ]
  },
  {
   "cell_type": "code",
   "execution_count": null,
   "metadata": {},
   "outputs": [],
   "source": [
    "class A:\n",
    "    def process(self):\n",
    "        print(\" In class A\")\n",
    "\n",
    "class B(A):\n",
    "    def process(self):\n",
    "        print(\" In class B\")\n",
    "\n",
    "class C(B,A):\n",
    "    def process(self):\n",
    "        print(\" In class C\")\n",
    "\n",
    "# Creating object of C class\n",
    "C1 = C()\n",
    "C1.process()\n",
    "#print(C.mro())"
   ]
  },
  {
   "cell_type": "code",
   "execution_count": null,
   "metadata": {},
   "outputs": [],
   "source": []
  },
  {
   "cell_type": "code",
   "execution_count": null,
   "metadata": {},
   "outputs": [],
   "source": [
    "super function inheritance\n",
    "class Company:\n",
    "    def company_name(self):\n",
    "        return 'Google'\n",
    "\n",
    "class Employee(Company):\n",
    "    def info(self):\n",
    "        # Calling the superclass method using super()function\n",
    "        c_name = super().company_name()\n",
    "        print(\"Jessa works at\", c_name)\n",
    "\n",
    "# Creating object of child class\n",
    "emp = Employee()\n",
    "emp.info()"
   ]
  },
  {
   "cell_type": "code",
   "execution_count": null,
   "metadata": {},
   "outputs": [],
   "source": [
    "super function inheritance\n",
    "class Company:\n",
    "    def company_name(self):\n",
    "        return 'Google'\n",
    "\n",
    "class Employee(Company):\n",
    "    def info(self):\n",
    "        # Calling the superclass method using super()function\n",
    "        c_name = super().company_name()\n",
    "        print(\"Jessa works at\", c_name)\n",
    "\n",
    "# Creating object of child class\n",
    "emp = Employee()\n",
    "emp.info()"
   ]
  },
  {
   "cell_type": "code",
   "execution_count": null,
   "metadata": {},
   "outputs": [],
   "source": []
  },
  {
   "cell_type": "code",
   "execution_count": null,
   "metadata": {},
   "outputs": [],
   "source": []
  },
  {
   "cell_type": "code",
   "execution_count": null,
   "metadata": {},
   "outputs": [],
   "source": []
  },
  {
   "cell_type": "code",
   "execution_count": null,
   "metadata": {},
   "outputs": [],
   "source": []
  },
  {
   "cell_type": "code",
   "execution_count": 16,
   "metadata": {},
   "outputs": [
    {
     "name": "stdout",
     "output_type": "stream",
     "text": [
      "Name:  Jessa Salary: 10000\n",
      "Name:  Jessa Salary: 10000\n"
     ]
    }
   ],
   "source": [
    "# public\n",
    "class Employee:\n",
    "    # constructor\n",
    "    def __init__(self, name, salary):\n",
    "        # public data members\n",
    "        self.name = name\n",
    "        self.salary = salary\n",
    "\n",
    "    # public instance methods\n",
    "    def show(self):\n",
    "        # accessing public data member\n",
    "        print(\"Name: \", self.name, 'Salary:', self.salary)\n",
    "\n",
    "# creating object of a class\n",
    "emp = Employee('Jessa', 10000)\n",
    "\n",
    "# accessing public data members\n",
    "print(\"Name: \", emp.name, 'Salary:', emp.salary)\n",
    "\n",
    "# calling public method of the class\n",
    "emp.show()"
   ]
  },
  {
   "cell_type": "code",
   "execution_count": 22,
   "metadata": {},
   "outputs": [
    {
     "ename": "AttributeError",
     "evalue": "'Employee' object has no attribute '__name'",
     "output_type": "error",
     "traceback": [
      "\u001b[1;31m---------------------------------------------------------------------------\u001b[0m",
      "\u001b[1;31mAttributeError\u001b[0m                            Traceback (most recent call last)",
      "Cell \u001b[1;32mIn[22], line 14\u001b[0m\n\u001b[0;32m     11\u001b[0m emp \u001b[38;5;241m=\u001b[39m Employee(\u001b[38;5;124m'\u001b[39m\u001b[38;5;124mJessa\u001b[39m\u001b[38;5;124m'\u001b[39m, \u001b[38;5;241m10000\u001b[39m)\n\u001b[0;32m     13\u001b[0m \u001b[38;5;66;03m# accessing private data members\u001b[39;00m\n\u001b[1;32m---> 14\u001b[0m \u001b[38;5;28mprint\u001b[39m(\u001b[38;5;124m'\u001b[39m\u001b[38;5;124mSalary:\u001b[39m\u001b[38;5;124m'\u001b[39m, \u001b[43memp\u001b[49m\u001b[38;5;241;43m.\u001b[39;49m\u001b[43m__name\u001b[49m)\n",
      "\u001b[1;31mAttributeError\u001b[0m: 'Employee' object has no attribute '__name'"
     ]
    }
   ],
   "source": [
    "#private\n",
    "class Employee:\n",
    "    # constructor\n",
    "    def __init__(self, name, salary):\n",
    "        # public data member\n",
    "        self.name = name\n",
    "        # private member\n",
    "        self.__salary = salary\n",
    "\n",
    "# creating object of a class\n",
    "emp = Employee('Jessa', 10000)\n",
    "\n",
    "# accessing private data members\n",
    "print('Salary:', emp.__salary)\n",
    "\n"
   ]
  },
  {
   "cell_type": "code",
   "execution_count": 24,
   "metadata": {},
   "outputs": [
    {
     "name": "stdout",
     "output_type": "stream",
     "text": [
      "Employee name : Jessa\n",
      "Working on project : NLP\n",
      "Project: NLP\n"
     ]
    }
   ],
   "source": [
    "# protected\n",
    "# base class\n",
    "class Company:\n",
    "    def __init__(self):\n",
    "        # Protected member\n",
    "        self._project = \"NLP\"\n",
    "\n",
    "# child class\n",
    "class Employee(Company):\n",
    "    def __init__(self, name):\n",
    "        self.name = name\n",
    "        Company.__init__(self)\n",
    "\n",
    "    def show(self):\n",
    "        print(\"Employee name :\", self.name)\n",
    "        # Accessing protected member in child class\n",
    "        print(\"Working on project :\", self._project)\n",
    "\n",
    "c = Employee(\"Jessa\")\n",
    "c.show()\n",
    "\n",
    "# Direct access protected data member\n",
    "print('Project:', c._project)"
   ]
  },
  {
   "cell_type": "code",
   "execution_count": 26,
   "metadata": {},
   "outputs": [
    {
     "name": "stdout",
     "output_type": "stream",
     "text": [
      "Name: Jessa 14\n",
      "Name: Jessa 16\n"
     ]
    }
   ],
   "source": [
    "#getter and setter\n",
    "class Student:\n",
    "    def __init__(self, name, age):\n",
    "        # private member\n",
    "        self.name = name\n",
    "        self.__age = age\n",
    "\n",
    "    # getter method\n",
    "    def get_age(self):\n",
    "        return self.__age\n",
    "\n",
    "    # setter method\n",
    "    def set_age(self, age):\n",
    "        self.__age = age\n",
    "\n",
    "stud = Student('Jessa', 14)\n",
    "\n",
    "# retrieving age using getter\n",
    "print('Name:', stud.name, stud.get_age())\n",
    "\n",
    "# changing age using setter\n",
    "stud.set_age(16)\n",
    "\n",
    "# retrieving age using getter\n",
    "print('Name:', stud.name, stud.get_age())"
   ]
  },
  {
   "cell_type": "code",
   "execution_count": null,
   "metadata": {},
   "outputs": [],
   "source": []
  },
  {
   "cell_type": "code",
   "execution_count": null,
   "metadata": {},
   "outputs": [],
   "source": []
  },
  {
   "cell_type": "code",
   "execution_count": null,
   "metadata": {},
   "outputs": [],
   "source": []
  },
  {
   "cell_type": "code",
   "execution_count": null,
   "metadata": {},
   "outputs": [],
   "source": []
  },
  {
   "cell_type": "code",
   "execution_count": null,
   "metadata": {},
   "outputs": [],
   "source": []
  },
  {
   "cell_type": "code",
   "execution_count": null,
   "metadata": {},
   "outputs": [],
   "source": []
  },
  {
   "cell_type": "code",
   "execution_count": null,
   "metadata": {},
   "outputs": [],
   "source": []
  },
  {
   "cell_type": "code",
   "execution_count": null,
   "metadata": {},
   "outputs": [],
   "source": []
  },
  {
   "cell_type": "code",
   "execution_count": null,
   "metadata": {},
   "outputs": [],
   "source": []
  }
 ],
 "metadata": {
  "kernelspec": {
   "display_name": "Python 3 (ipykernel)",
   "language": "python",
   "name": "python3"
  },
  "language_info": {
   "codemirror_mode": {
    "name": "ipython",
    "version": 3
   },
   "file_extension": ".py",
   "mimetype": "text/x-python",
   "name": "python",
   "nbconvert_exporter": "python",
   "pygments_lexer": "ipython3",
   "version": "3.12.4"
  }
 },
 "nbformat": 4,
 "nbformat_minor": 4
}
