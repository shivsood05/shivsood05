{
 "cells": [
  {
   "cell_type": "code",
   "execution_count": 1,
   "id": "512875c3-68d6-4ca9-86bd-c313123cc9fa",
   "metadata": {},
   "outputs": [
    {
     "name": "stdout",
     "output_type": "stream",
     "text": [
      "0\n",
      "1\n",
      "2\n",
      "3\n",
      "4\n",
      "5\n",
      "stop.\n"
     ]
    }
   ],
   "source": [
    "for i in range(10):\n",
    "    if i > 5:\n",
    "         print(\"stop.\")\n",
    "         break\n",
    "    print(i)"
   ]
  },
  {
   "cell_type": "code",
   "execution_count": 3,
   "id": "7ff11779-34d1-4ce8-b5b8-8abe555dd5ad",
   "metadata": {},
   "outputs": [
    {
     "name": "stdout",
     "output_type": "stream",
     "text": [
      "30\n"
     ]
    }
   ],
   "source": [
    "def calculate (num1, num2=4):\n",
    "  res = num1 * num2\n",
    "  print(res)\n",
    "\n",
    "calculate(5, 6)"
   ]
  },
  {
   "cell_type": "code",
   "execution_count": 5,
   "id": "d09271b9-fe86-440e-957d-a1b886dede6b",
   "metadata": {},
   "outputs": [
    {
     "name": "stdout",
     "output_type": "stream",
     "text": [
      "182.0\n"
     ]
    }
   ],
   "source": [
    "x = 36 / 4 * (3 +  2) * 4 + 2\n",
    "print(x)"
   ]
  },
  {
   "cell_type": "code",
   "execution_count": 7,
   "id": "f89b671d-e506-482c-bbd7-a98f9d9b8feb",
   "metadata": {},
   "outputs": [
    {
     "ename": "TypeError",
     "evalue": "set.add() takes exactly one argument (2 given)",
     "output_type": "error",
     "traceback": [
      "\u001b[1;31m---------------------------------------------------------------------------\u001b[0m",
      "\u001b[1;31mTypeError\u001b[0m                                 Traceback (most recent call last)",
      "Cell \u001b[1;32mIn[7], line 2\u001b[0m\n\u001b[0;32m      1\u001b[0m sampleSet \u001b[38;5;241m=\u001b[39m {\u001b[38;5;124m\"\u001b[39m\u001b[38;5;124mJodi\u001b[39m\u001b[38;5;124m\"\u001b[39m, \u001b[38;5;124m\"\u001b[39m\u001b[38;5;124mEric\u001b[39m\u001b[38;5;124m\"\u001b[39m, \u001b[38;5;124m\"\u001b[39m\u001b[38;5;124mGarry\u001b[39m\u001b[38;5;124m\"\u001b[39m}\n\u001b[1;32m----> 2\u001b[0m \u001b[43msampleSet\u001b[49m\u001b[38;5;241;43m.\u001b[39;49m\u001b[43madd\u001b[49m\u001b[43m(\u001b[49m\u001b[38;5;124;43m\"\u001b[39;49m\u001b[38;5;124;43mVicki\u001b[39;49m\u001b[38;5;124;43m\"\u001b[39;49m\u001b[43m,\u001b[49m\u001b[38;5;241;43m1\u001b[39;49m\u001b[43m)\u001b[49m\n\u001b[0;32m      3\u001b[0m \u001b[38;5;28mprint\u001b[39m(sampleSet)\n",
      "\u001b[1;31mTypeError\u001b[0m: set.add() takes exactly one argument (2 given)"
     ]
    }
   ],
   "source": [
    "sampleSet = {\"Jodi\", \"Eric\", \"Garry\"}\n",
    "sampleSet.add(\"Vicki\")\n",
    "print(sampleSet)"
   ]
  },
  {
   "cell_type": "code",
   "execution_count": 18,
   "id": "d2a81b40-6a98-49df-bc25-ca5b559bfb27",
   "metadata": {},
   "outputs": [
    {
     "name": "stdout",
     "output_type": "stream",
     "text": [
      "shivam sood\n",
      "shivam sood\n",
      "shivam sood\n",
      "shivam sood\n",
      "shivam sood\n",
      "shivam sood\n",
      "shivam sood\n",
      "shivam sood\n",
      "shivam sood\n",
      "shivam sood\n"
     ]
    }
   ],
   "source": [
    "for _ in range(10):\n",
    "   print(\"shivam sood\")"
   ]
  },
  {
   "cell_type": "code",
   "execution_count": 21,
   "id": "f2a9700a-3333-459d-9363-6076f1e04e8b",
   "metadata": {},
   "outputs": [
    {
     "name": "stdout",
     "output_type": "stream",
     "text": [
      "2\n",
      "3\n",
      "5\n",
      "7\n",
      "8\n",
      "9\n"
     ]
    }
   ],
   "source": [
    "list=[2,3,5,7,8,9]\n",
    "for i in list:\n",
    "    print(i)"
   ]
  },
  {
   "cell_type": "code",
   "execution_count": 25,
   "id": "4d9d729e-4476-4e5e-854c-53d8176279d6",
   "metadata": {},
   "outputs": [
    {
     "name": "stdout",
     "output_type": "stream",
     "text": [
      "1\n",
      "3\n",
      "5\n",
      "7\n",
      "9\n"
     ]
    }
   ],
   "source": [
    "i=1\n",
    "while i <10:\n",
    "    print(i)\n",
    "    i+=2\n",
    "    "
   ]
  },
  {
   "cell_type": "code",
   "execution_count": 28,
   "id": "485e0582-cac4-4d16-beaa-d998e13fffcb",
   "metadata": {},
   "outputs": [
    {
     "name": "stdout",
     "output_type": "stream",
     "text": [
      "3 1\n",
      "1 3\n",
      "0 4\n",
      "-1 5\n"
     ]
    }
   ],
   "source": [
    "x=4\n",
    "y=0\n",
    "while x>=0:\n",
    "    x-=1\n",
    "    y+=1\n",
    "    if x==y:\n",
    "        continue\n",
    "    else:\n",
    "         print(x,y)\n",
    "    "
   ]
  },
  {
   "cell_type": "code",
   "execution_count": 50,
   "id": "c748aa43-8697-4f45-a44c-2c6011bad19e",
   "metadata": {},
   "outputs": [
    {
     "name": "stdin",
     "output_type": "stream",
     "text": [
      "enter n : 4\n"
     ]
    },
    {
     "name": "stdout",
     "output_type": "stream",
     "text": [
      "iiiii\n",
      "iiiii\n",
      "iiiii\n",
      "iiiii\n"
     ]
    }
   ],
   "source": [
    "n=int(input(\"enter n :\"))\n",
    "for i in range(n):\n",
    "        print(\"i\" *5)"
   ]
  },
  {
   "cell_type": "code",
   "execution_count": 80,
   "id": "c2604c0e-bb76-4162-a966-973f3934311a",
   "metadata": {},
   "outputs": [
    {
     "name": "stdout",
     "output_type": "stream",
     "text": [
      "\n",
      "1 \n",
      "2 2 \n",
      "3 3 3 \n",
      "4 4 4 4 \n",
      "5 5 5 5 5 \n",
      "6 6 6 6 6 6 \n",
      "7 7 7 7 7 7 7 \n"
     ]
    }
   ],
   "source": [
    "rows = 8\n",
    "for i in range(rows):\n",
    "    for j in range(i):\n",
    "        print(i,end=' ')\n",
    "    print('')"
   ]
  },
  {
   "cell_type": "code",
   "execution_count": 74,
   "id": "d92e4579-fa64-4ef6-8c73-821ac14af42a",
   "metadata": {},
   "outputs": [
    {
     "name": "stdout",
     "output_type": "stream",
     "text": [
      "\n",
      "1 \n",
      "2 2 \n",
      "3 3 3 \n",
      "4 4 4 4 \n",
      "5 5 5 5 5 \n",
      "6 6 6 6 6 6 \n",
      "7 7 7 7 7 7 7 \n"
     ]
    }
   ],
   "source": [
    "rows = 8\n",
    "for i in range(rows):\n",
    "    for j in range(i):\n",
    "        print(i, end=' ')\n",
    "    print('')"
   ]
  },
  {
   "cell_type": "code",
   "execution_count": 86,
   "id": "e292f5fb-fc33-4ab9-bec5-b19da9387897",
   "metadata": {},
   "outputs": [
    {
     "name": "stdout",
     "output_type": "stream",
     "text": [
      "0 1 2 3 4 5 6 \n",
      "0 1 2 3 4 5 \n",
      "0 1 2 3 4 \n",
      "0 1 2 3 \n",
      "0 1 2 \n",
      "0 1 \n",
      "0 \n",
      "\n"
     ]
    }
   ],
   "source": [
    "rows = 8\n",
    "for j in range(rows):\n",
    "    for i in range(i):\n",
    "        print(i, end=' ')\n",
    "    print('')"
   ]
  },
  {
   "cell_type": "code",
   "execution_count": 88,
   "id": "2d56c9d3-30b5-4720-9718-3ccfc4870078",
   "metadata": {},
   "outputs": [
    {
     "name": "stdout",
     "output_type": "stream",
     "text": [
      "1 1 1 1 1 \n",
      "2 2 2 2 \n",
      "3 3 3 \n",
      "4 4 \n",
      "5 \n"
     ]
    }
   ],
   "source": [
    "rows = 5\n",
    "b = 0\n",
    "# reverse for loop from 5 to 0\n",
    "for i in range(rows, 0, -1):\n",
    "    b += 1\n",
    "    for j in range(1, i + 1):\n",
    "        print(b, end=' ')\n",
    "    print('\\r')"
   ]
  },
  {
   "cell_type": "code",
   "execution_count": 90,
   "id": "3f0ffff7-e01d-40d8-8b23-0fa8a954a605",
   "metadata": {},
   "outputs": [
    {
     "name": "stdout",
     "output_type": "stream",
     "text": [
      "5 5 5 5 5 \n",
      "5 5 5 5 \n",
      "5 5 5 \n",
      "5 5 \n",
      "5 \n"
     ]
    }
   ],
   "source": [
    "rows = 5\n",
    "num = rows\n",
    "# reverse for loop\n",
    "for i in range(rows, 0, -1):\n",
    "    for j in range(0, i):\n",
    "        print(num, end=' ')\n",
    "    print(\"\\r\")\n"
   ]
  },
  {
   "cell_type": "code",
   "execution_count": 106,
   "id": "3835ba1a-18b2-4349-9e71-a2ec9e21aea9",
   "metadata": {},
   "outputs": [
    {
     "name": "stdout",
     "output_type": "stream",
     "text": [
      "###shivamsood###\n"
     ]
    }
   ],
   "source": [
    "x='shivamsood'\n",
    "print(x.center(16,'#'))"
   ]
  },
  {
   "cell_type": "code",
   "execution_count": 110,
   "id": "4d5ab768-8f17-4840-8f86-2bd7af87a04e",
   "metadata": {},
   "outputs": [
    {
     "name": "stdout",
     "output_type": "stream",
     "text": [
      "2\n"
     ]
    }
   ],
   "source": [
    "x='shivamsood'\n",
    "print(x.count('s'))"
   ]
  },
  {
   "cell_type": "code",
   "execution_count": 124,
   "id": "7cf3f51a-1f12-43d5-8b4b-a0934c1a80f8",
   "metadata": {},
   "outputs": [
    {
     "name": "stdout",
     "output_type": "stream",
     "text": [
      "3\n"
     ]
    }
   ],
   "source": [
    "x= 'geeks for geeks'\n",
    "print(x.index('k'))"
   ]
  },
  {
   "cell_type": "code",
   "execution_count": 3,
   "id": "0c4de4ab-194a-47d5-8daf-68142426781d",
   "metadata": {},
   "outputs": [
    {
     "name": "stdout",
     "output_type": "stream",
     "text": [
      "5 4 3 2 1 \n",
      "4 3 2 1 \n",
      "3 2 1 \n",
      "2 1 \n",
      "1 \n",
      "\n"
     ]
    }
   ],
   "source": [
    "rows = 5\n",
    "for i in range(0, rows + 1):\n",
    "    for j in range(rows - i, 0, -1):\n",
    "        print(j, end=' ')\n",
    "    print()"
   ]
  },
  {
   "cell_type": "code",
   "execution_count": 7,
   "id": "6703cde1-441c-4761-a4f7-f9cb8370e549",
   "metadata": {},
   "outputs": [
    {
     "ename": "SyntaxError",
     "evalue": "expected ':' (2634016695.py, line 2)",
     "output_type": "error",
     "traceback": [
      "\u001b[1;36m  Cell \u001b[1;32mIn[7], line 2\u001b[1;36m\u001b[0m\n\u001b[1;33m    for l in range(num,0,-1)\u001b[0m\n\u001b[1;37m                            ^\u001b[0m\n\u001b[1;31mSyntaxError\u001b[0m\u001b[1;31m:\u001b[0m expected ':'\n"
     ]
    }
   ],
   "source": [
    "num = 5\n",
    "for l in range(num,0,-1)\n",
    " for p in range(1,0,-1)\n",
    "      print(p,end=\" \")\n",
    " print()  "
   ]
  },
  {
   "cell_type": "code",
   "execution_count": 18,
   "id": "f00ea0d9-e450-4a5e-9574-5e1d611f9897",
   "metadata": {},
   "outputs": [
    {
     "name": "stdout",
     "output_type": "stream",
     "text": [
      "***** "
     ]
    }
   ],
   "source": [
    "n=5\n",
    "print(\"*\"*n,end=\" \")\n"
   ]
  },
  {
   "cell_type": "code",
   "execution_count": 24,
   "id": "a3d9044c-8bd9-4394-b19c-71ee13cd8a4a",
   "metadata": {},
   "outputs": [
    {
     "name": "stdout",
     "output_type": "stream",
     "text": [
      "* * * * * "
     ]
    }
   ],
   "source": [
    "n=5\n",
    "for j in range(n):\n",
    "    print('*',end=\" \")"
   ]
  },
  {
   "cell_type": "code",
   "execution_count": 32,
   "id": "6ed8a483-ad88-4d40-82f6-11ed1a57b621",
   "metadata": {},
   "outputs": [
    {
     "name": "stdout",
     "output_type": "stream",
     "text": [
      "*\n",
      "*\n",
      "*\n",
      "*\n"
     ]
    }
   ],
   "source": [
    "n=2\n",
    "for i in range(n):\n",
    "    for j in range(n):\n",
    "        print('*')"
   ]
  },
  {
   "cell_type": "code",
   "execution_count": 48,
   "id": "51de6581-6a94-4c14-a198-ee8ecf084aea",
   "metadata": {},
   "outputs": [
    {
     "name": "stdout",
     "output_type": "stream",
     "text": [
      "* * * * * \n",
      "* * * * * \n",
      "* * * * * \n",
      "* * * * * \n",
      "* * * * * \n"
     ]
    }
   ],
   "source": [
    "n=5\n",
    "for i in range(n):\n",
    "    for j in range(n):\n",
    "        print('*',end=\" \")\n",
    "    print()"
   ]
  },
  {
   "cell_type": "code",
   "execution_count": 50,
   "id": "8fe24d81-07ae-4863-a1b0-edde863beecf",
   "metadata": {},
   "outputs": [
    {
     "name": "stdout",
     "output_type": "stream",
     "text": [
      "* \n",
      "* * \n",
      "* * * \n",
      "* * * * \n",
      "* * * * * \n"
     ]
    }
   ],
   "source": [
    "n=5\n",
    "for i in range(n):\n",
    "    for j in range(i+1):\n",
    "        print('*',end=\" \")\n",
    "    print()"
   ]
  },
  {
   "cell_type": "code",
   "execution_count": 52,
   "id": "ccd2bf23-e4c8-4b3b-b62a-aa7a5739c040",
   "metadata": {},
   "outputs": [
    {
     "name": "stdout",
     "output_type": "stream",
     "text": [
      "* * * * * \n",
      "* * * * \n",
      "* * * \n",
      "* * \n",
      "* \n"
     ]
    }
   ],
   "source": [
    "n=5\n",
    "for i in range(n):\n",
    "    for j in range(i,n):\n",
    "        print('*',end=\" \")\n",
    "    print()"
   ]
  },
  {
   "cell_type": "code",
   "execution_count": 60,
   "id": "7271c5f3-7519-44a3-a1f0-295c70d32ce0",
   "metadata": {},
   "outputs": [
    {
     "name": "stdout",
     "output_type": "stream",
     "text": [
      "*\n",
      "**\n",
      "***\n",
      "****\n",
      "*****\n"
     ]
    }
   ],
   "source": [
    "n=5\n",
    "for i in range(n):\n",
    "    for j in range(i,n):\n",
    "        print('',end='')\n",
    "    for j in range(i+1):\n",
    "        print('*',end='')\n",
    "    print()"
   ]
  },
  {
   "cell_type": "code",
   "execution_count": 11,
   "id": "97f82545-ee6f-4208-bcd9-d50890c6da38",
   "metadata": {},
   "outputs": [
    {
     "name": "stdout",
     "output_type": "stream",
     "text": [
      "1\n",
      "2\n",
      "3\n",
      "4\n",
      "5\n",
      "6\n",
      "7\n",
      "8\n",
      "9\n",
      "10\n"
     ]
    }
   ],
   "source": [
    "#1: Print first 10 natural numbers using while loop\n",
    "i = 1\n",
    "while i<=10:\n",
    "   print(i)\n",
    "   i+=1"
   ]
  },
  {
   "cell_type": "code",
   "execution_count": 1,
   "id": "2d6e0e27-4709-4543-a347-b26500631e8c",
   "metadata": {
    "scrolled": true
   },
   "outputs": [
    {
     "name": "stdout",
     "output_type": "stream",
     "text": [
      "1  \n",
      "1 2  \n",
      "1 2 3  \n",
      "1 2 3 4  \n",
      "1 2 3 4 5  \n"
     ]
    }
   ],
   "source": [
    "#2: Print the following pattern\n",
    "n = 5\n",
    "for i in range(1, n+1,1):\n",
    "    for j in range(1,i+1):\n",
    "       print(j,end=' ')\n",
    "    print(' ')    "
   ]
  },
  {
   "cell_type": "code",
   "execution_count": 33,
   "id": "c928211c-a1bb-4240-a70f-e3081d04124b",
   "metadata": {},
   "outputs": [
    {
     "name": "stdin",
     "output_type": "stream",
     "text": [
      "enter number 10\n"
     ]
    },
    {
     "name": "stdout",
     "output_type": "stream",
     "text": [
      "sum is: 55\n"
     ]
    }
   ],
   "source": [
    "# 3: Calculate sum of all numbers from 1 to a given number\n",
    "n = int(input(\"enter number\" ))\n",
    "x = sum(range(1,n+1))\n",
    "print('sum is:',x)\n"
   ]
  },
  {
   "cell_type": "code",
   "execution_count": 35,
   "id": "f93e4df7-9451-4830-b5f6-266e9a8233a6",
   "metadata": {},
   "outputs": [
    {
     "name": "stdin",
     "output_type": "stream",
     "text": [
      "Enter number  5\n"
     ]
    },
    {
     "name": "stdout",
     "output_type": "stream",
     "text": [
      "\n",
      "\n",
      "Sum is:  15\n"
     ]
    }
   ],
   "source": [
    "# 3: Calculate sum of all numbers from 1 to a given number\n",
    "s = 0\n",
    "n = int(input(\"Enter number \"))\n",
    "for i in range(1, n + 1, 1):\n",
    "    s += i\n",
    "print(\"\\n\")\n",
    "print(\"Sum is: \", s)"
   ]
  },
  {
   "cell_type": "code",
   "execution_count": 37,
   "id": "87f5cf40-cb3d-4b5d-a5bb-6f8d63141ba2",
   "metadata": {},
   "outputs": [
    {
     "name": "stdout",
     "output_type": "stream",
     "text": [
      "2\n",
      "4\n",
      "6\n",
      "8\n",
      "10\n",
      "12\n",
      "14\n",
      "16\n",
      "18\n",
      "20\n"
     ]
    }
   ],
   "source": [
    "#4: Print multiplication table of a given number\n",
    "n = 2\n",
    "for i in range(1, 11):\n",
    "    product = n * i\n",
    "    print(product)"
   ]
  },
  {
   "cell_type": "code",
   "execution_count": 39,
   "id": "38d82a7f-18ef-4da1-9863-9d55c978aa6a",
   "metadata": {},
   "outputs": [
    {
     "name": "stdout",
     "output_type": "stream",
     "text": [
      "75\n",
      "150\n",
      "145\n"
     ]
    }
   ],
   "source": [
    "# 5: Display numbers from a list using a loop\n",
    "numbers = [12, 75, 150, 180, 145, 525, 50]\n",
    "for n in numbers:\n",
    "    if n > 500:\n",
    "        break\n",
    "    elif n > 150:\n",
    "        continue\n",
    "    # check if number is divisible by 5\n",
    "    elif n % 5 == 0:\n",
    "        print(n)\n"
   ]
  },
  {
   "cell_type": "code",
   "execution_count": 53,
   "id": "2171002c-4aa7-4570-afbf-1736ce734406",
   "metadata": {},
   "outputs": [
    {
     "name": "stdout",
     "output_type": "stream",
     "text": [
      "15\n",
      "75\n",
      "45\n"
     ]
    }
   ],
   "source": [
    "number = [15,75,45,34,56,89]\n",
    "for n in number:\n",
    "    if n > 500:\n",
    "        break\n",
    "    elif n > 100:\n",
    "        continue\n",
    "    elif n % 5==0:\n",
    "        print(n)\n",
    "        "
   ]
  },
  {
   "cell_type": "code",
   "execution_count": 55,
   "id": "507615d9-d257-4008-8736-bb82d9c4bd2b",
   "metadata": {},
   "outputs": [
    {
     "name": "stdout",
     "output_type": "stream",
     "text": [
      "Total digits are: 5\n"
     ]
    }
   ],
   "source": [
    "#6: Count the total number of digits in a number\n",
    "num = 75869\n",
    "count = 0\n",
    "while num != 0:\n",
    "    num = num // 10\n",
    "    count = count + 1\n",
    "print(\"Total digits are:\", count)\n"
   ]
  },
  {
   "cell_type": "code",
   "execution_count": 64,
   "id": "d765894a-013d-4579-aa10-a13b00c81493",
   "metadata": {},
   "outputs": [
    {
     "name": "stdout",
     "output_type": "stream",
     "text": [
      "5 4 3 2 1 \n",
      "4 3 2 1 \n",
      "3 2 1 \n",
      "2 1 \n",
      "1 \n",
      "\n",
      "5 4 3 2 1 \n",
      "4 3 2 1 \n",
      "3 2 1 \n",
      "2 1 \n",
      "1 \n",
      "\n"
     ]
    }
   ],
   "source": [
    "#7: Print the following pattern\n",
    "n = 5\n",
    "k = 5\n",
    "for i in range(0,n+1):\n",
    "    for j in range(k-i,0,-1):\n",
    "        print(j,end=' ')\n",
    "    print()\n",
    "\n",
    "\n",
    "rows = 5\n",
    "for i in range(0, rows + 1):\n",
    "    for j in range(rows - i, 0, -1):\n",
    "        print(j, end=' ')\n",
    "    print()"
   ]
  },
  {
   "cell_type": "code",
   "execution_count": 66,
   "id": "5bef4624-61b2-4772-bd67-c65d94715a27",
   "metadata": {},
   "outputs": [
    {
     "name": "stdout",
     "output_type": "stream",
     "text": [
      "50\n",
      "40\n",
      "30\n",
      "20\n",
      "10\n"
     ]
    }
   ],
   "source": [
    "#8: Print list in reverse order using a loop\n",
    "list1 = [10, 20, 30, 40, 50]\n",
    "new_list = reversed(list1)\n",
    "for item in new_list:\n",
    "    print(item)"
   ]
  },
  {
   "cell_type": "code",
   "execution_count": 70,
   "id": "b418f398-8fab-4d9f-af31-98a154147730",
   "metadata": {},
   "outputs": [
    {
     "name": "stdout",
     "output_type": "stream",
     "text": [
      "-10\n",
      "-9\n",
      "-8\n",
      "-7\n",
      "-6\n",
      "-5\n",
      "-4\n",
      "-3\n",
      "-2\n",
      "-1\n"
     ]
    }
   ],
   "source": [
    "#9: Display numbers from -10 to -1 using for loop\n",
    "for i in range(-10, 0, 1):\n",
    "    print(i)"
   ]
  },
  {
   "cell_type": "code",
   "execution_count": 72,
   "id": "ad8da00d-018f-45a9-a154-31cd11b4f894",
   "metadata": {},
   "outputs": [
    {
     "name": "stdout",
     "output_type": "stream",
     "text": [
      "0\n",
      "1\n",
      "2\n",
      "3\n",
      "4\n",
      "Done!\n"
     ]
    }
   ],
   "source": [
    "#10: Display a message “Done” after the successful execution of the for loop\n",
    "for i in range(5):\n",
    "    print(i)\n",
    "else:\n",
    "    print(\"Done!\")\n",
    "\n"
   ]
  },
  {
   "cell_type": "code",
   "execution_count": 80,
   "id": "4c1e90ef-c26a-4394-95ee-8b28dbe2a81c",
   "metadata": {},
   "outputs": [
    {
     "name": "stdout",
     "output_type": "stream",
     "text": [
      "Prime numbers between 25 and 50 are:\n",
      "29\n",
      "31\n",
      "37\n",
      "41\n",
      "43\n",
      "47\n"
     ]
    }
   ],
   "source": [
    "#11: Print all prime numbers within a range\n",
    "start = 25\n",
    "end = 50\n",
    "print(\"Prime numbers between\", start, \"and\", end, \"are:\")\n",
    "\n",
    "for num in range(start, end + 1):\n",
    "    if num > 1:\n",
    "        for i in range(2, num):\n",
    "            if (num % i) == 0:\n",
    "                break\n",
    "        else:\n",
    "            print(num)"
   ]
  },
  {
   "cell_type": "code",
   "execution_count": 82,
   "id": "ae9f0d31-da63-4926-a517-4d2c06366645",
   "metadata": {},
   "outputs": [
    {
     "name": "stdout",
     "output_type": "stream",
     "text": [
      "Fibonacci sequence:\n",
      "0  1  1  2  3  5  8  13  21  34  "
     ]
    }
   ],
   "source": [
    "#12: Display Fibonacci series up to 10 terms\n",
    "# first two numbers\n",
    "num1, num2 = 0, 1\n",
    "\n",
    "print(\"Fibonacci sequence:\")\n",
    "# run loop 10 times\n",
    "for i in range(10):\n",
    "    # print next number of a series\n",
    "    print(num1, end=\"  \")\n",
    "    # add last two numbers to get next number\n",
    "    res = num1 + num2\n",
    "\n",
    "    # update values\n",
    "    num1 = num2\n",
    "    num2 = res\n"
   ]
  },
  {
   "cell_type": "code",
   "execution_count": null,
   "id": "01b628f3-7208-42f6-8d9c-b0e78ea635e7",
   "metadata": {},
   "outputs": [],
   "source": [
    "#13: Find the factorial of a given number\n",
    "num = 5\n",
    "factorial = 1\n",
    "if num < 0:\n",
    "    print(\"Factorial does not exist for negative numbers\")\n",
    "elif num == 0:\n",
    "    print(\"The factorial of 0 is 1\")\n",
    "else:\n",
    "    for i in range(1, num + 1):\n",
    "        factorial = factorial * i\n",
    "    print(\"The factorial of\", num, \"is\", factorial)\n",
    "\n"
   ]
  },
  {
   "cell_type": "code",
   "execution_count": 1,
   "id": "91bb292b-852a-48dc-bea4-fa9e444e89fa",
   "metadata": {},
   "outputs": [
    {
     "name": "stdin",
     "output_type": "stream",
     "text": [
      "enter a number:  5\n"
     ]
    },
    {
     "name": "stdout",
     "output_type": "stream",
     "text": [
      "    1\n",
      "   123\n",
      "  12345\n",
      " 1234567\n",
      "123456789\n"
     ]
    }
   ],
   "source": [
    "n=int(input(\"enter a number: \"))\n",
    "for i in range(1,n+1):\n",
    "    print(\" \"*(n-i),end=\"\")\n",
    "    for j in range(1,2*i):                                                                   \n",
    "        print(j,end=\"\")\n",
    "    print()\n",
    "    \n",
    "          "
   ]
  },
  {
   "cell_type": "code",
   "execution_count": 57,
   "id": "6c260b10-e0c3-4c29-ba16-c0dece9863d1",
   "metadata": {},
   "outputs": [
    {
     "name": "stdin",
     "output_type": "stream",
     "text": [
      "enter a number:  5\n"
     ]
    },
    {
     "name": "stdout",
     "output_type": "stream",
     "text": [
      "    --1.\n",
      "   --1.2.3.\n",
      "  --1.2.3.4.5.\n",
      " --1.2.3.4.5.6.7.\n",
      "--1.2.3.4.5.6.7.8.9.\n"
     ]
    }
   ],
   "source": [
    "n=int(input(\"enter a number: \"))\n",
    "for i in range(1,n+1):\n",
    "    print(\" \"*(n-i),end=\"--\")\n",
    "    for j in range(1,2*i):\n",
    "        print(j,end=\".\")\n",
    "    print()\n",
    "    "
   ]
  },
  {
   "cell_type": "code",
   "execution_count": 31,
   "id": "76b3b86c-d94e-48da-803f-0c4feaf75e88",
   "metadata": {},
   "outputs": [
    {
     "name": "stdout",
     "output_type": "stream",
     "text": [
      "['apple', 'mango', ['chiku', 'water melen'], 'kivi']\n",
      "water melen\n"
     ]
    }
   ],
   "source": [
    "fruits=[\"apple\",\"mango\",\"kivi\"]\n",
    "#print(fruits)\n",
    "fruits.insert(2,[\"chiku\",\"water melen\"])\n",
    "print(fruits)\n",
    "print(fruits[2][1])"
   ]
  },
  {
   "cell_type": "code",
   "execution_count": 8,
   "id": "f8ed7bc6-0400-4544-b665-13d0020470eb",
   "metadata": {},
   "outputs": [
    {
     "name": "stdin",
     "output_type": "stream",
     "text": [
      "enter a number:  4\n"
     ]
    },
    {
     "name": "stdout",
     "output_type": "stream",
     "text": [
      "sum nom : 1\n",
      "sum nom : 3\n",
      "sum nom : 6\n",
      "sum nom : 10\n"
     ]
    }
   ],
   "source": [
    "n = int(input(\"enter a number: \"))\n",
    "sum=0\n",
    "for i in range(1,n+1):\n",
    "    sum=sum+i\n",
    "    print(\"sum nom :\",sum)    "
   ]
  },
  {
   "cell_type": "code",
   "execution_count": 34,
   "id": "8a6e8f66-a00b-454a-a895-8e5dec689cfa",
   "metadata": {},
   "outputs": [
    {
     "name": "stdout",
     "output_type": "stream",
     "text": [
      "{'a', 'c', 'b'} {'a', 'f', 'g'}\n",
      "{'c', 'f', 'g', 'a', 'b'}\n"
     ]
    }
   ],
   "source": [
    "s1 = {'a','b','c'}\n",
    "s2 = {'a','f','g'}\n",
    "print(s1,s2)\n",
    "s3=s1.union(s2)\n",
    "print(s3)"
   ]
  },
  {
   "cell_type": "code",
   "execution_count": 7,
   "id": "7fdbc631-c4cb-42f5-bec1-23353b8ae7ae",
   "metadata": {},
   "outputs": [
    {
     "name": "stdout",
     "output_type": "stream",
     "text": [
      "James\n",
      "New String: Jms\n"
     ]
    }
   ],
   "source": [
    "#Python String Exercise with Solutions\n",
    "#Exercise 1A: Create a string made of the first, middle and last character\n",
    "str1 = 'James'\n",
    "print(str1)\n",
    "res = str1[0]\n",
    "l = len(str1)\n",
    "mi = int(l / 2)\n",
    "res = res + str1[mi]\n",
    "res = res + str1[l - 1]\n",
    "print(\"New String:\", res)"
   ]
  },
  {
   "cell_type": "code",
   "execution_count": 11,
   "id": "22210025-3c3a-414f-b678-642101c0f818",
   "metadata": {},
   "outputs": [
    {
     "name": "stdout",
     "output_type": "stream",
     "text": [
      "Original String is JhonDipPeta\n",
      "Middle three chars are: Dip\n",
      "Original String is JaSonAy\n",
      "Middle three chars are: Son\n"
     ]
    }
   ],
   "source": [
    "#Exercise 1B: Create a string made of the middle three characters\n",
    "def get_middle_three_chars(str1):\n",
    "    print(\"Original String is\", str1)\n",
    "    mi = int(len(str1) / 2)\n",
    "    res = str1[mi - 1:mi + 2]\n",
    "    print(\"Middle three chars are:\", res)\n",
    "\n",
    "get_middle_three_chars(\"JhonDipPeta\")\n",
    "get_middle_three_chars(\"JaSonAy\")"
   ]
  },
  {
   "cell_type": "code",
   "execution_count": 13,
   "id": "884878f8-dac7-4d6b-9f73-28b09ad006af",
   "metadata": {},
   "outputs": [
    {
     "name": "stdout",
     "output_type": "stream",
     "text": [
      "Original Strings are Ault Kelly\n",
      "After appending new string in middle: AuKellylt\n"
     ]
    }
   ],
   "source": [
    "#Exercise 2: Append new string in the middle of a given string\n",
    "def append_middle(s1, s2):\n",
    "    print(\"Original Strings are\", s1, s2)\n",
    "    mi = int(len(s1) / 2)\n",
    "    x = s1[:mi:]\n",
    "    x = x + s2\n",
    "    x = x + s1[mi:]\n",
    "    print(\"After appending new string in middle:\", x)\n",
    "\n",
    "append_middle(\"Ault\", \"Kelly\")\n"
   ]
  },
  {
   "cell_type": "code",
   "execution_count": 15,
   "id": "0bc937a0-834a-40f7-96c5-b421941e893d",
   "metadata": {},
   "outputs": [
    {
     "name": "stdout",
     "output_type": "stream",
     "text": [
      "Mix String is  AJrpan\n"
     ]
    }
   ],
   "source": [
    "#Exercise 3: Create a new string made of the first, middle, and last characters of each input string\n",
    "def mix_string(s1, s2):\n",
    "    first_char = s1[0] + s2[0]\n",
    "\n",
    "    # get middle character from both string\n",
    "    middle_char = s1[int(len(s1) / 2):int(len(s1) / 2) + 1] + s2[int(len(s2) / 2):int(len(s2) / 2) + 1]\n",
    "\n",
    "    # get last character from both string\n",
    "    last_char = s1[len(s1) - 1] + s2[len(s2) - 1]\n",
    "\n",
    "    # add all\n",
    "    res = first_char + middle_char + last_char\n",
    "    print(\"Mix String is \", res)\n",
    "\n",
    "s1 = \"America\"\n",
    "s2 = \"Japan\"\n",
    "mix_string(s1, s2)\n"
   ]
  },
  {
   "cell_type": "code",
   "execution_count": 17,
   "id": "80dfd450-28db-4007-9b5c-22c94cfdd58f",
   "metadata": {},
   "outputs": [
    {
     "name": "stdout",
     "output_type": "stream",
     "text": [
      "Original String: PYnAtivE\n",
      "Result: ntivPYAE\n"
     ]
    }
   ],
   "source": [
    "#Exercise 4: Arrange string characters such that lowercase letters should come first\n",
    "str1 = \"PYnAtivE\"\n",
    "print('Original String:', str1)\n",
    "lower = []\n",
    "upper = []\n",
    "for char in str1:\n",
    "    if char.islower():\n",
    "        # add lowercase characters to lower list\n",
    "        lower.append(char)\n",
    "    else:\n",
    "        # add uppercase characters to lower list\n",
    "        upper.append(char)\n",
    "\n",
    "sorted_str = ''.join(lower + upper)\n",
    "print('Result:', sorted_str)"
   ]
  },
  {
   "cell_type": "code",
   "execution_count": 23,
   "id": "3c6636be-88c4-4afa-a75d-8024879f6202",
   "metadata": {},
   "outputs": [
    {
     "name": "stdout",
     "output_type": "stream",
     "text": [
      "total counts of chars, Digits, and symbols \n",
      "\n",
      "Chars = 8 Digits = 2 Symbol = 3\n"
     ]
    }
   ],
   "source": [
    "#Exercise 5: Count all letters, digits, and special symbols from a given string\n",
    "def find_digits_chars_symbols(sample_str):\n",
    "    char_count = 0\n",
    "    digit_count = 0\n",
    "    symbol_count = 0\n",
    "    for char in sample_str:\n",
    "        if char.isalpha():\n",
    "            char_count += 1\n",
    "        elif char.isdigit():\n",
    "            digit_count += 1\n",
    "        # if it is not letter or digit then it is special symbol\n",
    "        else:\n",
    "            symbol_count += 1\n",
    "\n",
    "    print(\"Chars =\", char_count, \"Digits =\", digit_count, \"Symbol =\", symbol_count)\n",
    "\n",
    "sample_str = \"P@yn2at&#i5ve\"\n",
    "print(\"total counts of chars, Digits, and symbols \\n\")\n",
    "find_digits_chars_symbols(sample_str)\n"
   ]
  },
  {
   "cell_type": "code",
   "execution_count": 25,
   "id": "c638fe0c-a641-488e-81a6-58e5d0ee6740",
   "metadata": {},
   "outputs": [
    {
     "name": "stdout",
     "output_type": "stream",
     "text": [
      "AzbycX\n"
     ]
    }
   ],
   "source": [
    "#Exercise 6: Create a mixed String using the following rules\n",
    "s1 = \"Abc\"\n",
    "s2 = \"Xyz\"\n",
    "\n",
    "# get string length\n",
    "s1_length = len(s1)\n",
    "s2_length = len(s2)\n",
    "\n",
    "# get length of a bigger string\n",
    "length = s1_length if s1_length > s2_length else s2_length\n",
    "result = \"\"\n",
    "\n",
    "# reverse s2\n",
    "s2 = s2[::-1]\n",
    "\n",
    "# iterate string \n",
    "# s1 ascending and s2 descending\n",
    "for i in range(length):\n",
    "    if i < s1_length:\n",
    "        result = result + s1[i]\n",
    "    if i < s2_length:\n",
    "        result = result + s2[i]\n",
    "\n",
    "print(result)\n"
   ]
  },
  {
   "cell_type": "code",
   "execution_count": 27,
   "id": "54af8ca5-5214-43b3-9416-af2f2b46744d",
   "metadata": {},
   "outputs": [
    {
     "name": "stdout",
     "output_type": "stream",
     "text": [
      "s1 and s2 are balanced: True\n",
      "s1 and s2 are balanced: False\n"
     ]
    }
   ],
   "source": [
    "#Exercise 7: String characters balance Test\n",
    "def string_balance_test(s1, s2):\n",
    "    flag = True\n",
    "    for char in s1:\n",
    "        if char in s2:\n",
    "            continue\n",
    "        else:\n",
    "            flag = False\n",
    "    return flag\n",
    "\n",
    "\n",
    "s1 = \"Yn\"\n",
    "s2 = \"PYnative\"\n",
    "flag = string_balance_test(s1, s2)\n",
    "print(\"s1 and s2 are balanced:\", flag)\n",
    "\n",
    "s1 = \"Ynf\"\n",
    "s2 = \"PYnative\"\n",
    "flag = string_balance_test(s1, s2)\n",
    "print(\"s1 and s2 are balanced:\", flag)\n"
   ]
  },
  {
   "cell_type": "code",
   "execution_count": 29,
   "id": "534199eb-a693-4967-b950-7de143f272d8",
   "metadata": {},
   "outputs": [
    {
     "name": "stdout",
     "output_type": "stream",
     "text": [
      "The USA count is: 2\n"
     ]
    }
   ],
   "source": [
    "#Exercise 8: Find all occurrences of a substring in a given string by ignoring the case\n",
    "str1 = \"Welcome to USA. usa awesome, isn't it?\"\n",
    "sub_string = \"USA\"\n",
    "\n",
    "temp_str = str1.lower()\n",
    "\n",
    "count = temp_str.count(sub_string.lower())\n",
    "print(\"The USA count is:\", count)\n"
   ]
  },
  {
   "cell_type": "code",
   "execution_count": 35,
   "id": "91c87f3e-a4ff-46e2-8be0-382493a950d7",
   "metadata": {},
   "outputs": [
    {
     "name": "stdout",
     "output_type": "stream",
     "text": [
      "Sum is: 38 Average is  6.333333333333333\n"
     ]
    }
   ],
   "source": [
    "#Exercise 9: Calculate the sum and average of the digits present in a string\n",
    "input_str = \"PYnative29@#8496\"\n",
    "total = 0\n",
    "cnt = 0\n",
    "for char in input_str:\n",
    "    if char.isdigit():\n",
    "        total += int(char)\n",
    "        cnt += 1\n",
    "\n",
    "# average = sum / count of digits \n",
    "avg = total / cnt\n",
    "print(\"Sum is:\", total, \"Average is \", avg)\n"
   ]
  },
  {
   "cell_type": "code",
   "execution_count": 37,
   "id": "6d9c9c7e-8892-46b7-882c-b245f5b53e58",
   "metadata": {},
   "outputs": [
    {
     "name": "stdout",
     "output_type": "stream",
     "text": [
      "Result: {'A': 1, 'p': 2, 'l': 1, 'e': 1}\n"
     ]
    }
   ],
   "source": [
    "#Exercise 10: Write a program to count occurrences of all characters within a string\n",
    "str1 = \"Apple\"\n",
    "\n",
    "# create a result dictionary\n",
    "char_dict = dict()\n",
    "\n",
    "for char in str1:\n",
    "    count = str1.count(char)\n",
    "    # add / update the count of a character\n",
    "    char_dict[char] = count\n",
    "print('Result:', char_dict)\n"
   ]
  },
  {
   "cell_type": "code",
   "execution_count": 39,
   "id": "f3dfb909-c2e3-4490-8a83-981aafefc900",
   "metadata": {},
   "outputs": [
    {
     "name": "stdout",
     "output_type": "stream",
     "text": [
      "Original String is: PYnative\n",
      "Reversed String is: evitanYP\n"
     ]
    }
   ],
   "source": [
    "#Exercise 11: Reverse a given string\n",
    "str1 = \"PYnative\"\n",
    "print(\"Original String is:\", str1)\n",
    "\n",
    "str1 = str1[::-1]\n",
    "print(\"Reversed String is:\", str1)"
   ]
  },
  {
   "cell_type": "code",
   "execution_count": null,
   "id": "dc6e7bab-ae4d-4bf1-95e8-fd834fc823dc",
   "metadata": {},
   "outputs": [],
   "source": [
    "#Exercise 12: Find the last position of a given substring\n",
    "str1 = \"Emma is a data scientist who knows Python. Emma works at google.\"\n",
    "print(\"Original String is:\", str1)\n",
    "\n",
    "index = str1.rfind(\"Emma\")\n",
    "print(\"Last occurrence of Emma starts at index:\", index)"
   ]
  },
  {
   "cell_type": "code",
   "execution_count": 41,
   "id": "6146287c-6d40-4271-8921-e0b2e861013f",
   "metadata": {},
   "outputs": [
    {
     "name": "stdout",
     "output_type": "stream",
     "text": [
      "Original String is: Emma-is-a-data-scientist\n",
      "Displaying each substring\n",
      "Emma\n",
      "is\n",
      "a\n",
      "data\n",
      "scientist\n"
     ]
    }
   ],
   "source": [
    "#Exercise 13: Split a string on hyphens\n",
    "str1 = \"Emma-is-a-data-scientist\"\n",
    "print(\"Original String is:\", str1)\n",
    "\n",
    "# split string\n",
    "sub_strings = str1.split(\"-\")\n",
    "\n",
    "print(\"Displaying each substring\")\n",
    "for sub in sub_strings:\n",
    "    print(sub)\n"
   ]
  },
  {
   "cell_type": "code",
   "execution_count": 45,
   "id": "bc64bb1c-188c-4def-ac71-e93bcd869907",
   "metadata": {},
   "outputs": [
    {
     "name": "stdout",
     "output_type": "stream",
     "text": [
      "After removing empty strings\n",
      "['Emma', 'Jon', 'Kelly', 'Eric']\n"
     ]
    }
   ],
   "source": [
    "#Exercise 14: Remove empty strings from a list of strings\n",
    "str_list = [\"Emma\", \"Jon\", \"\", \"Kelly\", None, \"Eric\", \"\"]\n",
    "\n",
    "# use built-in function filter to filter empty value\n",
    "new_str_list = list(filter(None, str_list))\n",
    "\n",
    "print(\"After removing empty strings\")\n",
    "print(new_str_list)"
   ]
  },
  {
   "cell_type": "code",
   "execution_count": null,
   "id": "7478b210-39f3-4a43-b702-ea11d3ab9d55",
   "metadata": {},
   "outputs": [],
   "source": [
    "#Exercise 15: Remove special symbols / punctuation from a string ,cutt"
   ]
  },
  {
   "cell_type": "code",
   "execution_count": 47,
   "id": "89982bea-df0d-4c72-a96b-bef138112cfa",
   "metadata": {},
   "outputs": [
    {
     "name": "stdout",
     "output_type": "stream",
     "text": [
      "Original string is I am 25 years and 10 months old\n",
      "2510\n"
     ]
    }
   ],
   "source": [
    "#Exercise 16: Removal all characters from a string except integers\n",
    "str1 = 'I am 25 years and 10 months old'\n",
    "print(\"Original string is\", str1)\n",
    "\n",
    "# Retain Numbers in String\n",
    "# Using list comprehension + join() + isdigit()\n",
    "res = \"\".join([item for item in str1 if item.isdigit()])\n",
    "\n",
    "print(res)"
   ]
  },
  {
   "cell_type": "code",
   "execution_count": 51,
   "id": "22cd59d2-25a5-4d16-b7ef-e645779a4f3a",
   "metadata": {},
   "outputs": [
    {
     "name": "stdout",
     "output_type": "stream",
     "text": [
      "2510\n"
     ]
    }
   ],
   "source": [
    "#Exercise 16: Removal all characters from a string except integers\n",
    "str1 = 'I am 25 years and 10 months old'\n",
    "res=\"\"\n",
    "for i in str1:\n",
    "    if i.isdigit():\n",
    "        res= res+i\n",
    "print(res)"
   ]
  },
  {
   "cell_type": "code",
   "execution_count": 55,
   "id": "c20ccfdc-38e3-4be4-ba6a-fea0556906fe",
   "metadata": {},
   "outputs": [
    {
     "name": "stdout",
     "output_type": "stream",
     "text": [
      "The original string is : Emma25 is Data scientist50 and AI Expert\n",
      "Displaying words with alphabets and numbers\n",
      "Emma25\n",
      "scientist50\n"
     ]
    }
   ],
   "source": [
    "#Exercise 17: Find words with both alphabets and numbers\n",
    "str1 = \"Emma25 is Data scientist50 and AI Expert\"\n",
    "print(\"The original string is : \" + str1)\n",
    "\n",
    "res = []\n",
    "temp = str1.split()\n",
    "\n",
    "for item in temp:\n",
    "    if any(char.isalpha() for char in item) and any(char.isdigit() for char in item):\n",
    "        res.append(item)\n",
    "\n",
    "print(\"Displaying words with alphabets and numbers\")\n",
    "for i in res:\n",
    "    print(i)\n",
    "\n"
   ]
  },
  {
   "cell_type": "code",
   "execution_count": 57,
   "id": "71948599-b631-4dc1-a630-c4d609637f06",
   "metadata": {},
   "outputs": [
    {
     "name": "stdout",
     "output_type": "stream",
     "text": [
      "Emma25\n",
      "scientist50\n"
     ]
    }
   ],
   "source": [
    "#\n",
    "str1 = \"Emma25 is Data scientist50 and AI Expert\"\n",
    "res=[]\n",
    "temp = str1.split()\n",
    "for i in temp:\n",
    "    a_digit= False\n",
    "    b_alpha = False\n",
    "\n",
    "    for j in i:\n",
    "        if j.isdigit():\n",
    "            a_digit= True\n",
    "        if j.isalpha():\n",
    "            b_alpha = True\n",
    "\n",
    "        if a_digit and b_alpha:\n",
    "            res.append(i)\n",
    "            break\n",
    "\n",
    "for k in res:\n",
    "    print(k)"
   ]
  },
  {
   "cell_type": "code",
   "execution_count": 61,
   "id": "f4e1f63d-b660-4bbd-aec2-ce5a750d4084",
   "metadata": {},
   "outputs": [
    {
     "name": "stdout",
     "output_type": "stream",
     "text": [
      "The original string is :  /*Jon is @developer & musician!!\n",
      "The strings after replacement :  ##Jon is #developer # musician##\n"
     ]
    }
   ],
   "source": [
    "#Exercise 18: Replace each special symbol with # in the following string\n",
    "import string\n",
    "\n",
    "str1 = '/*Jon is @developer & musician!!'\n",
    "print(\"The original string is : \", str1)\n",
    "\n",
    "# Replace punctuations with #\n",
    "replace_char = '#'\n",
    "\n",
    "# string.punctuation to get the list of all special symbols\n",
    "for char in string.punctuation:\n",
    "    str1 = str1.replace(char, replace_char)\n",
    "print(\"The strings after replacement : \", str1)\n"
   ]
  },
  {
   "cell_type": "code",
   "execution_count": 7,
   "id": "57374834-51bd-49bb-9068-62851b85bce4",
   "metadata": {},
   "outputs": [
    {
     "name": "stdin",
     "output_type": "stream",
     "text": [
      "enter a number: 4\n"
     ]
    },
    {
     "name": "stdout",
     "output_type": "stream",
     "text": [
      "1\n",
      "3\n",
      "6\n",
      "10\n"
     ]
    }
   ],
   "source": [
    "# PRACTICE ONLINE CLASS\n",
    "n=int(input(\"enter a number:\"))\n",
    "sum=0\n",
    "for i in range(1,n+1):\n",
    "    sum+=i\n",
    "    print(sum)\n",
    "\n"
   ]
  },
  {
   "cell_type": "code",
   "execution_count": 13,
   "id": "6bff3122-2ca2-4487-acea-73412232c7b0",
   "metadata": {},
   "outputs": [
    {
     "name": "stdout",
     "output_type": "stream",
     "text": [
      "shivam sood\n"
     ]
    }
   ],
   "source": [
    "def soodshiv():\n",
    "    print(\"shivam sood\")\n",
    "soodshiv()    "
   ]
  },
  {
   "cell_type": "code",
   "execution_count": 49,
   "id": "aa515499-ba53-4b26-96a1-a6e1821407bc",
   "metadata": {},
   "outputs": [
    {
     "name": "stdout",
     "output_type": "stream",
     "text": [
      "10\n"
     ]
    }
   ],
   "source": [
    "def add(n1,n2):\n",
    "    #sum=n1+n2\n",
    "    return sum\n",
    "x=2\n",
    "y=3\n",
    "print(add(x,y))\n",
    "    "
   ]
  },
  {
   "cell_type": "code",
   "execution_count": null,
   "id": "58a8abff-1639-4953-9df0-6d587804ac8e",
   "metadata": {},
   "outputs": [],
   "source": [
    "#function"
   ]
  },
  {
   "cell_type": "code",
   "execution_count": null,
   "id": "4dfc9282-fa24-4d05-b14d-a33882fdf147",
   "metadata": {},
   "outputs": [],
   "source": [
    "#Exercise 1: Create a function in Python\n"
   ]
  },
  {
   "cell_type": "code",
   "execution_count": 35,
   "id": "28af2e41-cb27-4125-8565-473fb761e771",
   "metadata": {},
   "outputs": [
    {
     "name": "stdout",
     "output_type": "stream",
     "text": [
      "ben 34\n"
     ]
    }
   ],
   "source": [
    "def mix(name, age):\n",
    "   print(name,age)\n",
    "print(\"ben\",34)"
   ]
  },
  {
   "cell_type": "code",
   "execution_count": 39,
   "id": "50c931cf-9d7d-4d7c-a940-0c270796e6f5",
   "metadata": {},
   "outputs": [
    {
     "name": "stdout",
     "output_type": "stream",
     "text": [
      "50\n",
      "70\n",
      "90\n",
      "60\n",
      "30\n",
      "100\n",
      "40\n"
     ]
    }
   ],
   "source": [
    "#Exercise 2: Create a function with variable length of arguments\n",
    "def func(*args):\n",
    "    for i in args:\n",
    "        print(i)\n",
    "func(50,70,90,60)\n",
    "func(30,100,40)"
   ]
  },
  {
   "cell_type": "code",
   "execution_count": 71,
   "id": "8bd9e53d-34d6-42ce-b2aa-bfe0057a7a05",
   "metadata": {},
   "outputs": [
    {
     "name": "stdout",
     "output_type": "stream",
     "text": [
      "(30, -10)\n"
     ]
    }
   ],
   "source": [
    "#Exercise 3: Return multiple values from a function\n",
    "def cal(a,b):\n",
    "    add=a+b\n",
    "    sub=a-b\n",
    "    return add,sub\n",
    "res=cal(10,20)\n",
    "print(res)"
   ]
  },
  {
   "cell_type": "code",
   "execution_count": 73,
   "id": "e79770e7-86ff-4229-8e43-8cde40ca3d09",
   "metadata": {},
   "outputs": [
    {
     "name": "stdout",
     "output_type": "stream",
     "text": [
      "name: Ben salary: 2000\n",
      "name: jassa salary: 5000\n"
     ]
    }
   ],
   "source": [
    "#Exercise 4: Create a function with a default argument\n",
    "def show(name,salary=5000):\n",
    "    print(\"name:\",name,\"salary:\",salary)\n",
    "show(\"Ben\",2000)\n",
    "show(\"jassa\")"
   ]
  },
  {
   "cell_type": "code",
   "execution_count": 93,
   "id": "f8da233a-5104-4b41-8b33-f1a9c6425b1b",
   "metadata": {},
   "outputs": [
    {
     "name": "stdout",
     "output_type": "stream",
     "text": [
      "15\n"
     ]
    }
   ],
   "source": [
    "#Exercise 5: Create an inner function to calculate the addition in the following way\n",
    "def func1(a):\n",
    "    def func2(b):\n",
    "        return a + b\n",
    "    return func2\n",
    "add_five=func1(5)\n",
    "result=add_five(10)\n",
    "print(result)"
   ]
  },
  {
   "cell_type": "code",
   "execution_count": 91,
   "id": "7ac0fadb-3538-4add-bdbe-f38f7bddc91a",
   "metadata": {},
   "outputs": [
    {
     "name": "stdout",
     "output_type": "stream",
     "text": [
      "15\n"
     ]
    }
   ],
   "source": [
    "def func1(a,b):\n",
    "    def func2():\n",
    "        return a+b\n",
    "    return func2\n",
    "add_five=func1(5,10)\n",
    "result=add_five()\n",
    "print(result)"
   ]
  },
  {
   "cell_type": "code",
   "execution_count": 95,
   "id": "1c44b30f-90a8-4c24-bec1-7197247ce790",
   "metadata": {},
   "outputs": [
    {
     "name": "stdout",
     "output_type": "stream",
     "text": [
      "55\n"
     ]
    }
   ],
   "source": [
    "#Exercise 6: Create a recursive function\n",
    "def add(num):\n",
    "    if num:\n",
    "        return num + add(num - 1)\n",
    "    else:\n",
    "        return 0\n",
    "\n",
    "res = add(10)\n",
    "print(res)\n"
   ]
  },
  {
   "cell_type": "code",
   "execution_count": 101,
   "id": "5c8433b8-fa0c-4a35-8538-b0aef4b2fabb",
   "metadata": {},
   "outputs": [
    {
     "name": "stdout",
     "output_type": "stream",
     "text": [
      "Emma 26\n",
      "Emma 26\n"
     ]
    }
   ],
   "source": [
    "#Exercise 7: Assign a different name to function and call it through the new name\n",
    "def display_student(name, age):\n",
    "    print(name, age)\n",
    "display_student(\"Emma\", 26)\n",
    "showStudent = display_student\n",
    "showStudent(\"Emma\", 26)\n"
   ]
  },
  {
   "cell_type": "code",
   "execution_count": 107,
   "id": "18a7d307-1fe4-43c1-bfae-9b6b14977581",
   "metadata": {},
   "outputs": [
    {
     "name": "stdout",
     "output_type": "stream",
     "text": [
      "[4, 6, 8, 10, 12, 14, 16, 18, 20, 22, 24, 26, 28]\n"
     ]
    }
   ],
   "source": [
    "#Exercise 8: Generate a Python list of all the even numbers between 4 to 30\n",
    "print(list(range(4, 30, 2)))"
   ]
  },
  {
   "cell_type": "code",
   "execution_count": 111,
   "id": "7598d267-8e62-496f-b816-80f705951be4",
   "metadata": {},
   "outputs": [
    {
     "name": "stdout",
     "output_type": "stream",
     "text": [
      "24\n"
     ]
    }
   ],
   "source": [
    "#Exercise 8: Generate a Python list of all the even numbers between 4 to 30\n",
    "x = [4, 6, 8, 24, 12, 2]\n",
    "print(max(x))"
   ]
  },
  {
   "cell_type": "code",
   "execution_count": 21,
   "id": "6be5986b-d98d-4d60-a984-598f2319e5cd",
   "metadata": {},
   "outputs": [
    {
     "name": "stdout",
     "output_type": "stream",
     "text": [
      "0\n",
      "1\n",
      "2\n",
      "3\n",
      "4\n",
      "5\n",
      "6\n",
      "7\n",
      "8\n",
      "9\n"
     ]
    }
   ],
   "source": [
    "for i in range(10):\n",
    "    print(i)"
   ]
  },
  {
   "cell_type": "code",
   "execution_count": 25,
   "id": "f1463a81-29d5-4056-b2a0-ba091c532ab4",
   "metadata": {},
   "outputs": [
    {
     "name": "stdout",
     "output_type": "stream",
     "text": [
      "110\n"
     ]
    }
   ],
   "source": [
    "sum = 0\n",
    "for i in range(2, 22, 2):\n",
    "    sum = sum + i\n",
    "print(sum)"
   ]
  },
  {
   "cell_type": "code",
   "execution_count": 23,
   "id": "be0730f3-31ab-4557-9c9a-a87a84ba4d67",
   "metadata": {},
   "outputs": [
    {
     "name": "stdout",
     "output_type": "stream",
     "text": [
      "4\n",
      "9\n",
      "16\n",
      "25\n"
     ]
    }
   ],
   "source": [
    "num=[2,3,4,5,6,7]\n",
    "for i in number:\n",
    "    square=i**2\n",
    "    print(square)\n"
   ]
  },
  {
   "cell_type": "code",
   "execution_count": 39,
   "id": "60965f29-872d-4c3b-af1c-5b4fc18a0f5f",
   "metadata": {},
   "outputs": [
    {
     "name": "stdout",
     "output_type": "stream",
     "text": [
      "4\n"
     ]
    }
   ],
   "source": [
    "num=[2,3,4,5,6]\n",
    "sum=0\n",
    "for i in num:\n",
    "    sum=sum+i\n",
    "numsize=len(num)\n",
    "avg=sum/numsize\n",
    "print(int(avg))\n",
    "    "
   ]
  },
  {
   "cell_type": "code",
   "execution_count": 57,
   "id": "441535ba-8854-45e2-a105-567d9748c84a",
   "metadata": {},
   "outputs": [
    {
     "name": "stdout",
     "output_type": "stream",
     "text": [
      "odd: 3\n",
      "even: 6\n",
      "odd: 9\n",
      "even: 12\n",
      "odd: 15\n",
      "even: 18\n",
      "odd: 21\n",
      "even: 24\n"
     ]
    }
   ],
   "source": [
    "for i in range(3,25,3):\n",
    "    if i%2==0:\n",
    "       print(\"even:\" ,i)\n",
    "    else:\n",
    "       print(\"odd:\",i)\n",
    " \n"
   ]
  },
  {
   "cell_type": "code",
   "execution_count": 65,
   "id": "f6e36849-e27f-4b57-b091-077c511ca333",
   "metadata": {},
   "outputs": [
    {
     "name": "stdout",
     "output_type": "stream",
     "text": [
      "10\n",
      "12\n",
      "14\n",
      "16\n",
      "18\n"
     ]
    }
   ],
   "source": [
    "for i in range(9,20):\n",
    "    if i%2==0:\n",
    "      print(i)"
   ]
  },
  {
   "cell_type": "code",
   "execution_count": 69,
   "id": "e1dd1b51-d17c-401e-a3dd-4fa0e82d839f",
   "metadata": {},
   "outputs": [
    {
     "name": "stdout",
     "output_type": "stream",
     "text": [
      "2\n",
      "9\n",
      "7\n"
     ]
    }
   ],
   "source": [
    "num=[2,9,7,12,13,10,23,13,141,15]\n",
    "for i in num:\n",
    "    if i>10:\n",
    "        break\n",
    "    else:\n",
    "        print(i)\n",
    "        "
   ]
  },
  {
   "cell_type": "code",
   "execution_count": 77,
   "id": "83cac4c6-8838-4fac-999b-05b293fffae3",
   "metadata": {},
   "outputs": [
    {
     "name": "stdout",
     "output_type": "stream",
     "text": [
      "7\n"
     ]
    }
   ],
   "source": [
    "name=\"shiv sood\"\n",
    "sum=0\n",
    "for char in name:\n",
    "    if char =='s':\n",
    "        continue\n",
    "    else:\n",
    "        sum=sum+1\n",
    "print(sum)"
   ]
  },
  {
   "cell_type": "code",
   "execution_count": 98,
   "id": "f2f55251-4c48-4598-809d-4b72a1955833",
   "metadata": {},
   "outputs": [
    {
     "name": "stdout",
     "output_type": "stream",
     "text": [
      "1\n",
      "2\n"
     ]
    }
   ],
   "source": [
    "count=0\n",
    "for i in range(1,6):\n",
    "     count=count+1\n",
    "     if count>2:\n",
    "         break\n",
    "     else:\n",
    "         print(i)\n",
    "else:\n",
    "      print(\"done\")"
   ]
  },
  {
   "cell_type": "code",
   "execution_count": 122,
   "id": "c7dc03c7-4117-4c1b-b7d7-5930c7043918",
   "metadata": {},
   "outputs": [
    {
     "name": "stdout",
     "output_type": "stream",
     "text": [
      "9 8 7 6 4 3 2 "
     ]
    }
   ],
   "source": [
    "num1=[2,3,4,6,7,8,9]\n",
    "for i in reversed(num1):\n",
    "    print(i,end=\" \")"
   ]
  },
  {
   "cell_type": "code",
   "execution_count": 3,
   "id": "7f92cab0-942b-4568-9fd7-400e90cf9105",
   "metadata": {},
   "outputs": [
    {
     "name": "stdout",
     "output_type": "stream",
     "text": [
      "Jess Emma Kelly "
     ]
    }
   ],
   "source": [
    "names = ['Jess', 'Emma', 'Kelly']\n",
    "for i in names:\n",
    "   print(i, end=' ')\n"
   ]
  },
  {
   "cell_type": "code",
   "execution_count": 5,
   "id": "77fc91ce-9ac7-4279-9d54-61c52fe603c2",
   "metadata": {},
   "outputs": [
    {
     "name": "stdout",
     "output_type": "stream",
     "text": [
      "0\n",
      "1\n",
      "2\n",
      "3\n",
      "4\n",
      "5\n",
      "6\n",
      "7\n",
      "8\n",
      "9\n",
      "10\n"
     ]
    }
   ],
   "source": [
    "for i in range(11):\n",
    "    print(i)"
   ]
  },
  {
   "cell_type": "code",
   "execution_count": 26,
   "id": "67f96743-43f5-43c7-96ab-cc2ed0b3ac7e",
   "metadata": {},
   "outputs": [
    {
     "name": "stdout",
     "output_type": "stream",
     "text": [
      "0\n",
      "2\n",
      "6\n",
      "12\n",
      "20\n"
     ]
    }
   ],
   "source": [
    "sum=0\n",
    "for i in range(0,10,2):\n",
    "    sum =sum+i\n",
    "    print(sum,)"
   ]
  },
  {
   "cell_type": "code",
   "execution_count": 34,
   "id": "f256f98e-e8a4-4104-af2b-ad32d5935143",
   "metadata": {},
   "outputs": [
    {
     "name": "stdout",
     "output_type": "stream",
     "text": [
      "inside 6\n",
      "outside 5\n"
     ]
    }
   ],
   "source": [
    "#pass by value\n",
    "def addone(x):\n",
    "    x=x+1\n",
    "    print('inside',x)\n",
    "x=5\n",
    "addone(x)\n",
    "print('outside',x)\n"
   ]
  },
  {
   "cell_type": "code",
   "execution_count": 52,
   "id": "b76042e2-f124-4ea5-b23e-c764938175c5",
   "metadata": {},
   "outputs": [
    {
     "name": "stdout",
     "output_type": "stream",
     "text": [
      "inside [1, 3, 2, 6]\n",
      "outside [1, 3, 2, 6]\n"
     ]
    }
   ],
   "source": [
    "#pass by reference\n",
    "def modifylist(list):\n",
    "    list.append(6)\n",
    "    print(\"inside\",list)\n",
    "\n",
    "list=[1,3,2]\n",
    "modifylist(list)\n",
    "print('outside',list)"
   ]
  },
  {
   "cell_type": "code",
   "execution_count": 37,
   "id": "85b8af8e-fc49-4a83-bcf4-40890eb0cf13",
   "metadata": {},
   "outputs": [
    {
     "name": "stdin",
     "output_type": "stream",
     "text": [
      "enter n: 4\n"
     ]
    },
    {
     "name": "stdout",
     "output_type": "stream",
     "text": [
      "factorial: 24\n"
     ]
    }
   ],
   "source": [
    "def factorial(n):\n",
    "    ans=1\n",
    "    if n==0:\n",
    "        ans=1\n",
    "    else:\n",
    "        for i in range(1,n+1):\n",
    "            ans=ans*i\n",
    "        return ans\n",
    "n=int(input(\"enter n:\"))\n",
    "output = factorial(n)\n",
    "print(\"factorial:\",output)"
   ]
  },
  {
   "cell_type": "code",
   "execution_count": 55,
   "id": "eae9777e-1d8c-4a6a-a222-48176c8a7a48",
   "metadata": {},
   "outputs": [
    {
     "name": "stdin",
     "output_type": "stream",
     "text": [
      "enter n: 5\n"
     ]
    },
    {
     "name": "stdout",
     "output_type": "stream",
     "text": [
      "factorial: 5\n"
     ]
    }
   ],
   "source": [
    "def factorial(n):\n",
    "    \n",
    "    if n==0:\n",
    "        return 1 \n",
    "\n",
    "    ans = n*factorial(n-1)\n",
    "    return ans\n",
    "\n",
    "n=int(input(\"enter n:\"))\n",
    "print(\"factorial:\",n)"
   ]
  },
  {
   "cell_type": "code",
   "execution_count": 59,
   "id": "756619f6-a149-49d8-ba0e-22071f4083cc",
   "metadata": {},
   "outputs": [
    {
     "name": "stdin",
     "output_type": "stream",
     "text": [
      "enter n: 4\n"
     ]
    },
    {
     "name": "stdout",
     "output_type": "stream",
     "text": [
      "4\n",
      "3\n",
      "2\n",
      "1\n"
     ]
    }
   ],
   "source": [
    "def printnto1(n):\n",
    "    if n==0:\n",
    "        return\n",
    "    print(n)\n",
    "\n",
    "    printnto1(n-1)\n",
    "n=int(input(\"enter n:\"))\n",
    "printnto1(n)"
   ]
  },
  {
   "cell_type": "code",
   "execution_count": 67,
   "id": "0783c294-5bd5-47f9-9291-1f6baa02783a",
   "metadata": {},
   "outputs": [
    {
     "name": "stdin",
     "output_type": "stream",
     "text": [
      "enter n: 4\n"
     ]
    },
    {
     "name": "stdout",
     "output_type": "stream",
     "text": [
      "1\n",
      "2\n",
      "3\n",
      "4\n"
     ]
    }
   ],
   "source": [
    "def printnto1(n):\n",
    "    if n==0:\n",
    "        return\n",
    "   # print(n)\n",
    "\n",
    "    printnto1(n-1)\n",
    "    print(n)\n",
    "n=int(input(\"enter n:\"))\n",
    "printnto1(n)"
   ]
  },
  {
   "cell_type": "code",
   "execution_count": 71,
   "id": "d428c887-5d63-403e-b3f9-a4ace2a2c288",
   "metadata": {},
   "outputs": [
    {
     "name": "stdin",
     "output_type": "stream",
     "text": [
      "enter n: 4\n"
     ]
    },
    {
     "name": "stdout",
     "output_type": "stream",
     "text": [
      "10\n"
     ]
    }
   ],
   "source": [
    "def sum1toN(n):\n",
    "    if n==1:\n",
    "        return 1\n",
    "    ans=n+sum1toN(n-1)\n",
    "    return ans\n",
    "n=int(input(\"enter n:\"))\n",
    "print(sum1toN(n))"
   ]
  },
  {
   "cell_type": "code",
   "execution_count": 11,
   "id": "704c6201-5df4-4020-b4f1-e00b7d67ff98",
   "metadata": {},
   "outputs": [
    {
     "name": "stdin",
     "output_type": "stream",
     "text": [
      "enter n: 7\n"
     ]
    },
    {
     "name": "stdout",
     "output_type": "stream",
     "text": [
      "0\n",
      "1\n",
      "1\n",
      "2\n",
      "3\n",
      "5\n",
      "8\n"
     ]
    }
   ],
   "source": [
    "#fibonacci\n",
    "def fibonacci(n):\n",
    "    if n==1:\n",
    "        return 0\n",
    "    elif n==2:\n",
    "        return 1\n",
    "    else:\n",
    "        return (fibonacci(n-1)+fibonacci(n-2))\n",
    "n=int(input(\"enter n:\"))\n",
    "for i in range(1,n+1):\n",
    "  print(fibonacci(i))"
   ]
  },
  {
   "cell_type": "code",
   "execution_count": 5,
   "id": "e1685c40-9a2c-4aaf-91c4-99e2ee1d4f6b",
   "metadata": {},
   "outputs": [
    {
     "name": "stdout",
     "output_type": "stream",
     "text": [
      "0 1 2 3 4 5 6 7 8 9 "
     ]
    }
   ],
   "source": [
    "for i in range(10):\n",
    "    print(i,end=\" \")"
   ]
  },
  {
   "cell_type": "code",
   "execution_count": 19,
   "id": "487d1a77-cb5f-4cc7-bc1f-4b842277fe11",
   "metadata": {},
   "outputs": [
    {
     "name": "stdout",
     "output_type": "stream",
     "text": [
      "10 15 20 25 30 35 40 45 50 55 "
     ]
    }
   ],
   "source": [
    "for i in range(10,60,5):\n",
    "    print(i,end=\" \")"
   ]
  },
  {
   "cell_type": "code",
   "execution_count": 17,
   "id": "34cf74f1-856f-4de2-beb3-695a5765e85b",
   "metadata": {},
   "outputs": [
    {
     "name": "stdout",
     "output_type": "stream",
     "text": [
      "1\n",
      "3\n",
      "5\n",
      "7\n",
      "9\n"
     ]
    }
   ],
   "source": [
    "for i in range(1,10,2):\n",
    "    print(i)"
   ]
  },
  {
   "cell_type": "code",
   "execution_count": 25,
   "id": "f1db1477-e082-45e6-a693-07af328949bf",
   "metadata": {},
   "outputs": [
    {
     "name": "stdout",
     "output_type": "stream",
     "text": [
      "shiv\n",
      "sood\n",
      "20\n",
      "35\n",
      "27\n"
     ]
    }
   ],
   "source": [
    "list=['shiv', 'sood', 20,35,27]\n",
    "for i in range(len(list)):\n",
    "    print(list[i])"
   ]
  },
  {
   "cell_type": "code",
   "execution_count": 33,
   "id": "3ba3a2be-3810-4411-a212-4bdfb4e6d672",
   "metadata": {},
   "outputs": [
    {
     "name": "stdout",
     "output_type": "stream",
     "text": [
      "shiv\n",
      "sood\n",
      "20\n",
      "35\n",
      "27\n"
     ]
    }
   ],
   "source": [
    "list=['shiv', 'sood', 20,35,27]\n",
    "for i in range(len(list)):\n",
    "    print(list[i])"
   ]
  },
  {
   "cell_type": "code",
   "execution_count": 41,
   "id": "95747bf2-233f-495e-9534-58718f012e3f",
   "metadata": {},
   "outputs": [
    {
     "name": "stdin",
     "output_type": "stream",
     "text": [
      "enter no: 5\n"
     ]
    },
    {
     "name": "stdout",
     "output_type": "stream",
     "text": [
      "\n",
      "1 \n",
      "2 2 \n",
      "3 3 3 \n",
      "4 4 4 4 \n"
     ]
    }
   ],
   "source": [
    "num=int(input(\"enter no:\"))\n",
    "for num in range(num): \n",
    "     for i in range(num):\n",
    "          print(num,end=\" \")\n",
    "     print()"
   ]
  },
  {
   "cell_type": "code",
   "execution_count": 47,
   "id": "8a2f7714-1422-4815-bd36-a4113b5e2545",
   "metadata": {},
   "outputs": [
    {
     "name": "stdout",
     "output_type": "stream",
     "text": [
      "5 4 3 2 1 0 "
     ]
    }
   ],
   "source": [
    "for i in range(5,-1,-1):\n",
    "    print(i,end=\" \")"
   ]
  },
  {
   "cell_type": "code",
   "execution_count": 49,
   "id": "81868fdf-698d-4cc6-bfa5-85602a4f2d85",
   "metadata": {},
   "outputs": [
    {
     "name": "stdout",
     "output_type": "stream",
     "text": [
      "9\n",
      "8\n",
      "7\n",
      "6\n",
      "5\n"
     ]
    }
   ],
   "source": [
    "for i in reversed(range(5,10)):\n",
    "    print(i)"
   ]
  },
  {
   "cell_type": "code",
   "execution_count": 57,
   "id": "65b9cdea-8f2f-47db-8488-643d82f21801",
   "metadata": {},
   "outputs": [
    {
     "name": "stdout",
     "output_type": "stream",
     "text": [
      "60\n",
      "50\n",
      "40\n",
      "30\n",
      "20\n",
      "10\n"
     ]
    }
   ],
   "source": [
    "                                                   #doubt in open bracket\n",
    "list1=[10,20,30,40,50,60]\n",
    "for i in range(len(list1)-1,-1,-1):\n",
    "    print(list1[i])\n"
   ]
  },
  {
   "cell_type": "code",
   "execution_count": 67,
   "id": "508bf078-f754-491c-b73d-4c5d32d9c40c",
   "metadata": {},
   "outputs": [
    {
     "name": "stdout",
     "output_type": "stream",
     "text": [
      "20 18 16 14 12 "
     ]
    }
   ],
   "source": [
    "for i in range(20,10,-2):\n",
    "    print(i,end=\" \")"
   ]
  },
  {
   "cell_type": "code",
   "execution_count": 75,
   "id": "cda84725-afc3-425f-8865-10903b4e1297",
   "metadata": {},
   "outputs": [
    {
     "name": "stdout",
     "output_type": "stream",
     "text": [
      "7\n",
      "14\n",
      "21\n",
      "28\n",
      "35\n",
      "42\n",
      "49\n",
      "56\n",
      "63\n",
      "70\n"
     ]
    }
   ],
   "source": [
    "for i in range(7,71,7):\n",
    "    print(i)"
   ]
  },
  {
   "cell_type": "code",
   "execution_count": 101,
   "id": "9664d2a6-dc02-4f15-bd44-c6028bffe879",
   "metadata": {},
   "outputs": [
    {
     "name": "stdout",
     "output_type": "stream",
     "text": [
      "1, 0, -1, -2, -3, -4, -5, -6, -7, -8, -9, -10, "
     ]
    }
   ],
   "source": [
    "# negative range from -1 to -10\n",
    "for i in range(1,-11,-1):\n",
    "    print(i, end=', ')"
   ]
  },
  {
   "cell_type": "code",
   "execution_count": 111,
   "id": "0fc6149d-d253-448c-8a27-442c95d5ccb4",
   "metadata": {},
   "outputs": [
    {
     "name": "stdout",
     "output_type": "stream",
     "text": [
      "-10 -9 -8 -7 -6 -5 -4 -3 -2 -1 "
     ]
    }
   ],
   "source": [
    "for i in range(-10,0):\n",
    "    print(i,end=\" \")"
   ]
  },
  {
   "cell_type": "code",
   "execution_count": 27,
   "id": "33fe4a50-6c4d-439c-9f88-83149b362c0d",
   "metadata": {},
   "outputs": [
    {
     "name": "stdout",
     "output_type": "stream",
     "text": [
      "[2, 4, 6, 8]\n",
      "2\n",
      "4\n",
      "6\n",
      "8\n"
     ]
    }
   ],
   "source": [
    "            \n",
    "num = list(range(2, 10, 2))\n",
    "print(list(num))\n",
    "for i in num:\n",
    "    print(i)"
   ]
  },
  {
   "cell_type": "code",
   "execution_count": 2,
   "id": "0123c210-fd2e-4f57-9c2a-5efb83ac5d52",
   "metadata": {},
   "outputs": [
    {
     "name": "stdout",
     "output_type": "stream",
     "text": [
      "2 4 6 8 "
     ]
    }
   ],
   "source": [
    "#                                            \n",
    "start = 2\n",
    "stop = 10\n",
    "step = 2\n",
    "\n",
    "#stop = stop+step\n",
    "\n",
    "for i in range(start, stop, step):\n",
    "    print(i, end=' ')"
   ]
  },
  {
   "cell_type": "code",
   "execution_count": null,
   "id": "03aae60a-295f-45f4-9d9e-e3f1bb44eebc",
   "metadata": {},
   "outputs": [],
   "source": [
    "step = 2\n",
    "for i in range(2, 20 + step, step):\n",
    "    print(i, end=' ')\n",
    "# Output 2 4 6 8 10 12 14 16 18 20"
   ]
  },
  {
   "cell_type": "code",
   "execution_count": 11,
   "id": "aa870763-de7e-4296-a6e0-414cc4e46afb",
   "metadata": {},
   "outputs": [
    {
     "name": "stdout",
     "output_type": "stream",
     "text": [
      "3 6 9 12 15 18 21 24 27 30 "
     ]
    }
   ],
   "source": [
    "step=3\n",
    "for i in range(3,30+step,step):\n",
    "    print(i,end=' ')"
   ]
  },
  {
   "cell_type": "code",
   "execution_count": 23,
   "id": "b181221a-c032-489a-8810-49c16b402181",
   "metadata": {},
   "outputs": [
    {
     "name": "stdout",
     "output_type": "stream",
     "text": [
      "[2, 4, 6, 8]\n",
      "2\n",
      "4\n",
      "6\n",
      "8\n"
     ]
    }
   ],
   "source": [
    "list1 = list(range(2, 10, 2))\n",
    "print(list1)\n",
    "for n in list1:\n",
    "    print(n)"
   ]
  },
  {
   "cell_type": "code",
   "execution_count": 29,
   "id": "1c6dcec5-a7c7-48f3-89ff-a42a10685117",
   "metadata": {},
   "outputs": [
    {
     "name": "stdout",
     "output_type": "stream",
     "text": [
      "[20, 40, 60, 80, 100, 120, 140, 160, 180]\n"
     ]
    }
   ],
   "source": [
    "list1 = list(range(10, 100, 10))                  \n",
    "# stop = list size, step =1\n",
    "for i in range(0, len(list1), 1):\n",
    "    list1[i] = list1[i] * 2\n",
    "print(list1)\n",
    "# Output [20, 40, 60, 80, 100, 120, 140, 160, 180]"
   ]
  },
  {
   "cell_type": "code",
   "execution_count": 33,
   "id": "a5e8235a-daea-4ec3-b22f-08ad9f75b2e5",
   "metadata": {},
   "outputs": [
    {
     "name": "stdout",
     "output_type": "stream",
     "text": [
      "0 1 2 3 4 5 6 7 8 9 "
     ]
    }
   ],
   "source": [
    "from itertools import chain                     \n",
    "\n",
    "new_range = chain(range5(5), range(5, 10))\n",
    "for num in new_range:\n",
    "    print(num, end=' ')\n",
    "# Output 0 1 2 3 4 5 6 7 8 9"
   ]
  },
  {
   "cell_type": "code",
   "execution_count": 8,
   "id": "6171f0c3-4afb-45a2-a712-a7f9db222e9a",
   "metadata": {},
   "outputs": [
    {
     "name": "stdout",
     "output_type": "stream",
     "text": [
      "2 4 6 8 "
     ]
    }
   ],
   "source": [
    "for i in range(2,10,2):\n",
    "    print(i,end=\" \")"
   ]
  },
  {
   "cell_type": "code",
   "execution_count": 12,
   "id": "b4ac8eee-96be-4083-9836-5d787fb99f52",
   "metadata": {},
   "outputs": [
    {
     "name": "stdout",
     "output_type": "stream",
     "text": [
      "shiv\n",
      "sagar\n",
      "ram\n",
      "30\n",
      "46\n",
      "23\n"
     ]
    }
   ],
   "source": [
    "list1=[\"shiv\",\"sagar\",\"ram\",30,46,23]\n",
    "for i in range(len(list1)):\n",
    "    print(list1[i])"
   ]
  },
  {
   "cell_type": "code",
   "execution_count": 30,
   "id": "f59ac48b-1f8e-414f-b581-5ed33e911e27",
   "metadata": {},
   "outputs": [
    {
     "name": "stdout",
     "output_type": "stream",
     "text": [
      "-5 -4 -3 -2 -1 0 1 2 3 4 "
     ]
    }
   ],
   "source": [
    "for i in range(-5,5,1):\n",
    "    print(i,end=\" \")"
   ]
  },
  {
   "cell_type": "code",
   "execution_count": 34,
   "id": "765b9b11-0af0-450e-b4d2-a77836d0c5d2",
   "metadata": {},
   "outputs": [
    {
     "name": "stdout",
     "output_type": "stream",
     "text": [
      "19 18 17 16 15 14 13 12 11 10 "
     ]
    }
   ],
   "source": [
    "for i in reversed(range(10,20)):\n",
    "    print(i,end=\" \")"
   ]
  },
  {
   "cell_type": "code",
   "execution_count": 42,
   "id": "43a32d94-8980-47b7-b54b-9934b199d4ea",
   "metadata": {},
   "outputs": [
    {
     "name": "stdout",
     "output_type": "stream",
     "text": [
      "0 1 2 3 4 2 7 12 17 "
     ]
    }
   ],
   "source": [
    "for i in range(5):\n",
    "    print(i,end=\" \")\n",
    "\n",
    "for i in range(2,20,5):\n",
    "    print(i,end=\" \")"
   ]
  },
  {
   "cell_type": "code",
   "execution_count": null,
   "id": "6cc1385b-a439-42a0-b648-a8e453bc67f0",
   "metadata": {},
   "outputs": [],
   "source": [
    "list1=list(range(2,10,2)):\n",
    "for i in range(0,len(list1),1):\n",
    "    list[i]=list[i]*2\n",
    "    print(list)"
   ]
  },
  {
   "cell_type": "markdown",
   "id": "d0a40244-9cdc-4aa3-a61a-33e014d74264",
   "metadata": {},
   "source": [
    "for i in range(10)[3:8]:\n",
    "    print(i, end=' ')"
   ]
  },
  {
   "cell_type": "code",
   "execution_count": 58,
   "id": "97589a7d-245b-43e9-8977-6b57940673d4",
   "metadata": {},
   "outputs": [
    {
     "name": "stdout",
     "output_type": "stream",
     "text": [
      "20 21 22 23 24 25 26 27 28 "
     ]
    }
   ],
   "source": [
    "for i in range(30)[20:29]:\n",
    "    print(i,end=\" \")"
   ]
  },
  {
   "cell_type": "code",
   "execution_count": 62,
   "id": "c50de15a-5dfa-4dda-80af-015661ac7342",
   "metadata": {},
   "outputs": [
    {
     "name": "stdout",
     "output_type": "stream",
     "text": [
      "a, b, c, d, e, f, g, h, i, j, k, l, m, n, o, p, q, r, s, t, u, v, w, x, y, z, "
     ]
    }
   ],
   "source": [
    "# range from 'a' to 'z                       \n",
    "def character_range(char1, char2):\n",
    "    for char in range(ord(char1), ord(char2) + 1):\n",
    "        yield (char)\n",
    "\n",
    "\n",
    "for letter in character_range('a', 'z'):\n",
    "    print(chr(letter), end=', ')\n"
   ]
  },
  {
   "cell_type": "code",
   "execution_count": 3,
   "id": "701753a6-934e-4343-a8ff-5cd258e28697",
   "metadata": {},
   "outputs": [
    {
     "name": "stdout",
     "output_type": "stream",
     "text": [
      "1\n",
      "2\n",
      "3\n"
     ]
    }
   ],
   "source": [
    "count=1\n",
    "while count < 4:\n",
    "    print(count)\n",
    "    count=count+1"
   ]
  },
  {
   "cell_type": "code",
   "execution_count": null,
   "id": "7720a1c9-06a4-43d7-bb23-82fb9bf1d670",
   "metadata": {},
   "outputs": [],
   "source": [
    "months = ['January', 'June', 'March', 'April']\n",
    "for mon in months:\n",
    "    pass\n",
    "print(months)"
   ]
  },
  {
   "cell_type": "code",
   "execution_count": 13,
   "id": "b381c33d-3ade-4bef-be0b-ab0cfc368b38",
   "metadata": {},
   "outputs": [
    {
     "name": "stdout",
     "output_type": "stream",
     "text": [
      "['january', 'april', 'febuary', 'july', 'june']\n"
     ]
    }
   ],
   "source": [
    "month = ['january','april','febuary','july','june']\n",
    "for i in month:\n",
    "    pass\n",
    "print(month)\n",
    "    "
   ]
  },
  {
   "cell_type": "code",
   "execution_count": 5,
   "id": "382d010e-7ef0-4462-ba4e-95aad04de02f",
   "metadata": {},
   "outputs": [
    {
     "name": "stdout",
     "output_type": "stream",
     "text": [
      "print vehical class\n",
      "Inside car class\n"
     ]
    }
   ],
   "source": [
    "class vehical:\n",
    "    def vehical_info(self):\n",
    "        print('print vehical class')\n",
    "\n",
    "class car(vehical):\n",
    "    def car_info(self):\n",
    "        print('Inside car class')\n",
    "\n",
    "car=car()\n",
    "car.vehical_info()\n",
    "car.car_info()      "
   ]
  },
  {
   "cell_type": "code",
   "execution_count": 23,
   "id": "566122b9-a0bd-40b9-aa48-8f3ca50a8e5f",
   "metadata": {},
   "outputs": [
    {
     "name": "stdout",
     "output_type": "stream",
     "text": [
      "[78, 54, 67, 23, 34, 23]\n",
      "[78, 54, 67, 23, 34, 23]\n"
     ]
    }
   ],
   "source": [
    "###                                  LIST EXERCISE\n",
    "#Exercise 1: Reverse a list in Python\n",
    "list1=[23 ,34,23,67,54,78]\n",
    "list1.reverse()\n",
    "print(list1)\n",
    "\n",
    "list1=[23 ,34,23,67,54,78]\n",
    "list1=list1[::-1]\n",
    "print(list1)"
   ]
  },
  {
   "cell_type": "code",
   "execution_count": 25,
   "id": "2208948a-7837-483f-bbe0-fd489fb8b1ee",
   "metadata": {},
   "outputs": [
    {
     "name": "stdout",
     "output_type": "stream",
     "text": [
      "My\n",
      "name\n",
      "is\n",
      "Kelly\n"
     ]
    }
   ],
   "source": [
    "#Exercise 2: Concatenate two lists index-wise\n",
    "list1 = [\"M\", \"na\", \"i\", \"Ke\"] \n",
    "list2 = [\"y\", \"me\", \"s\", \"lly\"]\n",
    "for i, j in zip(list1, list2):\n",
    "    list3=i+j\n",
    "    print(list3)"
   ]
  },
  {
   "cell_type": "code",
   "execution_count": 33,
   "id": "a22e4b7e-af6a-40ce-9383-fc4c675c3682",
   "metadata": {},
   "outputs": [
    {
     "name": "stdout",
     "output_type": "stream",
     "text": [
      "[1, 4, 9, 16, 25, 36, 49, 64, 81]\n"
     ]
    }
   ],
   "source": [
    "#Exercise 3: Turn every item of a list into its square\n",
    "numbers = [1, 2, 3, 4, 5, 6, 7,8,9]\n",
    "res = [x * x for x in numbers]\n",
    "print(res)"
   ]
  },
  {
   "cell_type": "code",
   "execution_count": 49,
   "id": "9badaec4-8f9b-4a3a-b315-42e362045571",
   "metadata": {},
   "outputs": [
    {
     "name": "stdout",
     "output_type": "stream",
     "text": [
      "['HelloDear', 'HelloSir', 'takeDear', 'takeSir']\n"
     ]
    }
   ],
   "source": [
    "# Exercise 4: Concatenate two lists in the following order\n",
    "list1 = [\"Hello\", \"take\"]\n",
    "list2 = [\"Dear\", \"Sir\"]\n",
    "res= []\n",
    "for i in list1:\n",
    "    for j in list2:\n",
    "        res.append(i + j)\n",
    "print(res)"
   ]
  },
  {
   "cell_type": "code",
   "execution_count": 71,
   "id": "482ee402-28ef-4859-8a40-64098e844433",
   "metadata": {},
   "outputs": [
    {
     "name": "stdout",
     "output_type": "stream",
     "text": [
      "HelloDear\n",
      "takeSir\n"
     ]
    }
   ],
   "source": [
    "#\n",
    "list1 = [\"Hello\", \"take\"]\n",
    "list2 = [\"Dear\", \"Sir\"]\n",
    "for i,j in zip(list1,list2):\n",
    "    list3=i+j\n",
    "    print(list3)"
   ]
  },
  {
   "cell_type": "code",
   "execution_count": 73,
   "id": "c6056de8-97b2-4c59-a14d-ae1dfe7a87ed",
   "metadata": {},
   "outputs": [
    {
     "name": "stdout",
     "output_type": "stream",
     "text": [
      "110\n",
      "220\n",
      "330\n",
      "440\n",
      "10 100\n",
      "20 200\n",
      "30 300\n",
      "40 400\n"
     ]
    }
   ],
   "source": [
    "#Exercise 5: Iterate both lists simultaneously\n",
    "list1 = [10, 20, 30, 40]\n",
    "list2 = [100, 200, 300, 400]\n",
    "for i,j in zip(list1,list2):\n",
    "    list3= i+j\n",
    "    print(list3)\n",
    "\n",
    "list1 = [10, 20, 30, 40]\n",
    "list2 = [100, 200, 300, 400]\n",
    "for x, y in zip(list1, list2[::1]):\n",
    "  print(x,y)\n"
   ]
  },
  {
   "cell_type": "code",
   "execution_count": 7,
   "id": "54f04996-b645-4b28-b4ab-02c526aa948a",
   "metadata": {},
   "outputs": [
    {
     "name": "stdout",
     "output_type": "stream",
     "text": [
      "['Mike', 'Emma', 'Kelly', 'Brad']\n"
     ]
    }
   ],
   "source": [
    "#Exercise 6: Remove empty strings from the list of strings\n",
    "list1 = [\"Mike\", \"\", \"Emma\", \"Kelly\", \"\", \"Brad\"]\n",
    "res = list(filter(None, list1))\n",
    "print(res)\n"
   ]
  },
  {
   "cell_type": "code",
   "execution_count": 17,
   "id": "7a790cad-3597-4618-854b-e8f5c135a096",
   "metadata": {},
   "outputs": [
    {
     "name": "stdout",
     "output_type": "stream",
     "text": [
      "[10, 20, [300, 400, [5000, 6000, 7000], 500], 30, 40]\n"
     ]
    }
   ],
   "source": [
    "# Exercise 7: Add new item to list after a specified item\n",
    "list1 = [10, 20, [300, 400, [5000, 6000], 500], 30, 40]\n",
    "\n",
    "list1[2][2].append(7000)\n",
    "print(list1)"
   ]
  },
  {
   "cell_type": "code",
   "execution_count": 21,
   "id": "945d74c0-1489-44fd-b404-11ff6abc11e9",
   "metadata": {},
   "outputs": [
    {
     "name": "stdout",
     "output_type": "stream",
     "text": [
      "['a', 'b', ['c', ['d', 'e', ['f', 'g', 'h', 'i', 'j'], 'k'], 'l'], 'm', 'n']\n"
     ]
    }
   ],
   "source": [
    "#Exercise 8: Extend nested list by adding the sublist\n",
    "list1 = [\"a\", \"b\", [\"c\", [\"d\", \"e\", [\"f\", \"g\"], \"k\"], \"l\"], \"m\", \"n\"]\n",
    "sub_list = [\"h\", \"i\", \"j\"]\n",
    "list1[2][1][2].extend(sub_list)\n",
    "print(list1)"
   ]
  },
  {
   "cell_type": "code",
   "execution_count": 25,
   "id": "1b8fe2a2-1f09-4aaa-a716-f2c6de1b6c4f",
   "metadata": {},
   "outputs": [
    {
     "name": "stdout",
     "output_type": "stream",
     "text": [
      "[5, 10, 15, 200, 25, 50, 20]\n"
     ]
    }
   ],
   "source": [
    "#Exercise 9: Replace list’s item with new value if found\n",
    "list1 = [5, 10, 15, 20, 25, 50, 20]\n",
    "index = list1.index(20)\n",
    "list1[index] = 200\n",
    "print(list1)"
   ]
  },
  {
   "cell_type": "code",
   "execution_count": 31,
   "id": "5da49abf-524f-44ea-bc1e-97f4fba3ba9a",
   "metadata": {},
   "outputs": [
    {
     "name": "stdout",
     "output_type": "stream",
     "text": [
      "[5, 15, 25, 50]\n",
      "[5, 15, 25, 50]\n"
     ]
    }
   ],
   "source": [
    "#Exercise 10: Remove all occurrences of a specific item from a list.\n",
    "list1 = [5, 20, 15, 20, 25, 50, 20]\n",
    "def remove_value(sample_list, val):\n",
    "    return [i for i in sample_list if i != val]\n",
    "\n",
    "res = remove_value(list1, 20)\n",
    "print(res)\n",
    "##\n",
    "list1 = [5, 20, 15, 20, 25, 50, 20]\n",
    "\n",
    "while 20 in list1:\n",
    "    list1.remove(20)\n",
    "print(list1)"
   ]
  },
  {
   "cell_type": "code",
   "execution_count": 33,
   "id": "98eb8465-c773-4572-9965-2abbb66ce4af",
   "metadata": {},
   "outputs": [
    {
     "name": "stdout",
     "output_type": "stream",
     "text": [
      "{'Ten': 10, 'Twenty': 20, 'Thirty': 30}\n"
     ]
    }
   ],
   "source": [
    "#                  Python Dictionary Exercise with Solutions\n",
    "#Exercise 1: Convert two lists into a dictionary\n",
    "keys = ['Ten', 'Twenty', 'Thirty']\n",
    "values = [10, 20, 30]\n",
    "\n",
    "dict = dict(zip(keys, values))\n",
    "print(dict)\n",
    "\n"
   ]
  },
  {
   "cell_type": "code",
   "execution_count": null,
   "id": "a9cec6b7-21b1-44b0-ab0b-54be1b4b82aa",
   "metadata": {},
   "outputs": [],
   "source": []
  }
 ],
 "metadata": {
  "kernelspec": {
   "display_name": "Python 3 (ipykernel)",
   "language": "python",
   "name": "python3"
  },
  "language_info": {
   "codemirror_mode": {
    "name": "ipython",
    "version": 3
   },
   "file_extension": ".py",
   "mimetype": "text/x-python",
   "name": "python",
   "nbconvert_exporter": "python",
   "pygments_lexer": "ipython3",
   "version": "3.12.4"
  }
 },
 "nbformat": 4,
 "nbformat_minor": 5
}
